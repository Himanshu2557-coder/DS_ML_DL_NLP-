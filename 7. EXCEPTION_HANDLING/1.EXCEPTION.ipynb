{
 "cells": [
  {
   "cell_type": "markdown",
   "id": "3d83c685",
   "metadata": {},
   "source": [
    "## UNDERSTANDING EXCEPTIONS\n",
    "\n",
    "Exception handling in python allows you to handle errors gracefully and take corrective\n",
    "actions without stopping the complete program"
   ]
  },
  {
   "cell_type": "markdown",
   "id": "0634153f",
   "metadata": {},
   "source": [
    "## WHAT ARE EXCEPTIONS ?\n",
    " Exceptions are events that disrupts normal flow of a program .They occour when an\n",
    " error is encountered during program execution. Common examples include :\n",
    " 1.Zero division error : dividing by zero\n",
    " 2.File not found erro : no file found\n",
    " 3.Value error         : invalid value\n",
    " 4.Type error          : invalid type"
   ]
  },
  {
   "cell_type": "code",
   "execution_count": null,
   "id": "861d4b91",
   "metadata": {},
   "outputs": [],
   "source": [
    "a = 10\n",
    "a = b ## error throw "
   ]
  },
  {
   "cell_type": "code",
   "execution_count": null,
   "id": "2c2745ff",
   "metadata": {},
   "outputs": [],
   "source": [
    "## exception try , except block\n",
    "\n",
    "try :\n",
    "    a = b \n",
    "except:  \n",
    "    print(\"variable is not assigned corectly !\")\n"
   ]
  },
  {
   "cell_type": "code",
   "execution_count": null,
   "id": "bb096632",
   "metadata": {},
   "outputs": [],
   "source": [
    "## try , except ,else , finally\n",
    "try:\n",
    "    num = int(input(\"enetr a number :\"))\n",
    "    result = 10/num\n",
    "except ValueError:\n",
    "    print(\"not a valid number \")\n",
    "except ZeroDivisionError:\n",
    "    print(\"u can't divide by zero\")\n",
    "else:\n",
    "    print(f\"the result is '{result}'\")\n",
    "finally:\n",
    "    print(\"execution done !\")"
   ]
  },
  {
   "cell_type": "code",
   "execution_count": 10,
   "id": "460707b5",
   "metadata": {},
   "outputs": [
    {
     "name": "stdout",
     "output_type": "stream",
     "text": [
      "file not exists \n"
     ]
    }
   ],
   "source": [
    "## file handling and exception handling :\n",
    "try : \n",
    "    file =open('example.txt','r')\n",
    "    content = file.read()\n",
    "    print(content)\n",
    "\n",
    "except FileNotFoundError:\n",
    "    print(\"file not exists \")\n",
    "\n",
    "finally:\n",
    "    if 'file' in locals() and not file.closed():\n",
    "        file.close()\n",
    "        print(\"file is closed\")"
   ]
  },
  {
   "cell_type": "code",
   "execution_count": null,
   "id": "b17ca74d",
   "metadata": {},
   "outputs": [],
   "source": []
  }
 ],
 "metadata": {
  "kernelspec": {
   "display_name": "Python 3",
   "language": "python",
   "name": "python3"
  },
  "language_info": {
   "codemirror_mode": {
    "name": "ipython",
    "version": 3
   },
   "file_extension": ".py",
   "mimetype": "text/x-python",
   "name": "python",
   "nbconvert_exporter": "python",
   "pygments_lexer": "ipython3",
   "version": "3.13.0"
  }
 },
 "nbformat": 4,
 "nbformat_minor": 5
}
