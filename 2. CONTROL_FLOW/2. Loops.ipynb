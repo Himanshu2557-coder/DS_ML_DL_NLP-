{
 "cells": [
  {
   "cell_type": "markdown",
   "id": "40defe10",
   "metadata": {},
   "source": [
    "## LOOPS IN PYTHON\n",
    "1. for loop\n",
    "2. while loop\n",
    "3. loop control statements\n",
    "   1. break\n",
    "   2. continue\n",
    "   3. pass\n",
    "4. Nested loops\n",
    "5. Practical examples and common errors\n"
   ]
  },
  {
   "cell_type": "code",
   "execution_count": null,
   "id": "619f3e4e",
   "metadata": {},
   "outputs": [],
   "source": [
    "## for loop \n",
    "for i in range(5):\n",
    "    print(i)\n",
    "    "
   ]
  },
  {
   "cell_type": "code",
   "execution_count": null,
   "id": "5ee21ea8",
   "metadata": {},
   "outputs": [],
   "source": [
    "## while loop\n",
    "count = 0\n",
    "while count < 5:\n",
    "    print(count)\n",
    "    count += 1\n",
    "    "
   ]
  },
  {
   "cell_type": "code",
   "execution_count": null,
   "id": "10395f49",
   "metadata": {},
   "outputs": [],
   "source": [
    "## break statement\n",
    "for i in range(10):\n",
    "    if i == 5:\n",
    "        break  # Exit the loop when i is 5\n",
    "    print(i)"
   ]
  },
  {
   "cell_type": "code",
   "execution_count": null,
   "id": "01024a2a",
   "metadata": {},
   "outputs": [],
   "source": [
    "## continue statement\n",
    "for i in range(10):\n",
    "    if i % 2 == 0:\n",
    "        continue  # Skip even numbers\n",
    "    print(i)\n",
    "    "
   ]
  },
  {
   "cell_type": "code",
   "execution_count": null,
   "id": "1675ad0d",
   "metadata": {},
   "outputs": [],
   "source": [
    "## pass statement\n",
    "for i in range(5):\n",
    "    if i == 2:\n",
    "        pass  # Do nothing for i == 2\n",
    "    print(i)"
   ]
  },
  {
   "cell_type": "code",
   "execution_count": null,
   "id": "2639d34f",
   "metadata": {},
   "outputs": [],
   "source": [
    "## nested conditionals\n",
    "age = 20\n",
    "if age >= 18:\n",
    "    print(\"You are an adult.\")\n",
    "    if age >= 65:\n",
    "        print(\"You are a senior citizen.\")\n",
    "        "
   ]
  },
  {
   "cell_type": "code",
   "execution_count": null,
   "id": "bbeadccd",
   "metadata": {},
   "outputs": [],
   "source": [
    "## practical examples\n",
    "# Example: Checking if a number is even or odd\n",
    "number = 10\n",
    "if number % 2 == 0:\n",
    "    print(f\"{number} is even.\")\n",
    "else:\n",
    "    print(f\"{number} is odd.\")\n",
    "\n",
    "# Example: Grading system\n",
    "marks = 85\n",
    "if marks >= 90:\n",
    "    print(\"Grade: A\")\n",
    "elif marks >= 80:\n",
    "    print(\"Grade: B\")\n",
    "else\n",
    "    print(\"Grade: C\")\n",
    "\n",
    "# Example: Finding the largest of three numbers\n",
    "a = 10\n",
    "b = 20\n",
    "c = 15\n",
    "if a >= b and a >= c:\n",
    "    print(f\"{a} is the largest number.\")\n",
    "elif b >= a and b >= c:\n",
    "    print(f\"{b} is the largest number.\")        \n",
    "elif c >= a and c >= b:\n",
    "    print(f\"{c} is the largest number.\")\n",
    "\n",
    "# Example: Checking if a year is a leap year\n",
    "year = 2020\n",
    "if (year % 4 == 0 and year % 100 != 0) or (year % 400 == 0):\n",
    "    print(f\"{year} is a leap year.\")\n",
    "else:\n",
    "    print(f\"{year} is not a leap year.\")"
   ]
  },
  {
   "cell_type": "code",
   "execution_count": null,
   "id": "54dcbee1",
   "metadata": {},
   "outputs": [],
   "source": [
    "# Common Errors and Best Practices\n",
    "\n",
    "# Common Errors:\n",
    "#     1. IndentationError: Ensure proper indentation in Python.\n",
    "#     2. SyntaxError: Check for missing colons or parentheses.\n",
    "\n",
    "# # Best Practices:\n",
    "#     1. Use meaningful variable names.\n",
    "#     2. Keep conditions simple and readable.\n",
    "#     3. Avoid deep nesting of conditionals for better readability.\n",
    "#     4. Use comments to explain complex logic.\n",
    "#     5. Test your code with different inputs to ensure correctness.\n",
    "\n"
   ]
  }
 ],
 "metadata": {
  "kernelspec": {
   "display_name": "Python 3",
   "language": "python",
   "name": "python3"
  },
  "language_info": {
   "name": "python",
   "version": "3.13.0"
  }
 },
 "nbformat": 4,
 "nbformat_minor": 5
}
