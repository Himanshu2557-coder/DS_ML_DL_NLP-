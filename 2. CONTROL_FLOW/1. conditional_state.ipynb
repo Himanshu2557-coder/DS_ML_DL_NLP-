{
 "cells": [
  {
   "cell_type": "markdown",
   "id": "ee34c9f5",
   "metadata": {},
   "source": [
    "## INTRO TO COND. STATEMENTS\n",
    "1. if statement\n",
    "2. else \n",
    "3. elif\n",
    "4. nested conditionals\n",
    "5. practical examples\n",
    "6. common errors and best practice"
   ]
  },
  {
   "cell_type": "code",
   "execution_count": null,
   "id": "25d2468e",
   "metadata": {},
   "outputs": [],
   "source": [
    "## if statement \n",
    "age = 20\n",
    "if age >= 18:\n",
    "    print(\"You are an adult.\")"
   ]
  },
  {
   "cell_type": "code",
   "execution_count": null,
   "id": "126301d0",
   "metadata": {},
   "outputs": [],
   "source": [
    "## else statement\n",
    "age = 16\n",
    "if age >= 18:\n",
    "    print(\"You are an adult.\")\n",
    "else:\n",
    "    print(\"You are a minor.\")\n",
    "    "
   ]
  },
  {
   "cell_type": "code",
   "execution_count": 3,
   "id": "8670eb88",
   "metadata": {},
   "outputs": [
    {
     "name": "stdout",
     "output_type": "stream",
     "text": [
      "You are an adult.\n"
     ]
    }
   ],
   "source": [
    "## elif statement\n",
    "age = 20\n",
    "if age < 13:\n",
    "    print(\"You are a child.\")\n",
    "elif age < 20:\n",
    "    print(\"You are a teenager.\")\n",
    "else:\n",
    "    print(\"You are an adult.\")\n"
   ]
  },
  {
   "cell_type": "code",
   "execution_count": null,
   "id": "2f4016e3",
   "metadata": {},
   "outputs": [],
   "source": [
    "## nested conditionals\n",
    "age = 20\n",
    "if age >= 18:\n",
    "    print(\"You are an adult.\")\n",
    "    if age >= 65:\n",
    "        print(\"You are a senior citizen.\")\n"
   ]
  },
  {
   "cell_type": "code",
   "execution_count": null,
   "id": "292637ba",
   "metadata": {},
   "outputs": [],
   "source": [
    "## practical examples\n",
    "# Example: Checking if a number is even or odd\n",
    "number = 10\n",
    "if number % 2 == 0:\n",
    "    print(f\"{number} is even.\")\n",
    "else:\n",
    "    print(f\"{number} is odd.\")\n",
    "\n",
    "# Example: Grading system\n",
    "marks = 85\n",
    "if marks >= 90:\n",
    "    print(\"Grade: A\")\n",
    "elif marks >= 80:\n",
    "    print(\"Grade: B\")\n",
    "elif marks >= 70:\n",
    "    print(\"Grade: C\")   \n",
    "elif marks >= 60:\n",
    "    print(\"Grade: D\")\n",
    "else:\n",
    "    print(\"Grade: F\")\n",
    "\n"
   ]
  },
  {
   "cell_type": "code",
   "execution_count": null,
   "id": "a3abd774",
   "metadata": {},
   "outputs": [],
   "source": [
    "## Common Errors and Best Practices\n",
    "\n",
    "# Common Errors:\n",
    " 1. IndentationError: Ensure proper indentation in Python.\n",
    " 2. Missing colons: Always end if, elif, and else statements with a colon (:).\n",
    " 3. Logical errors: Ensure the conditions are logically correct.\n",
    "\n",
    "# Best Practices:\n",
    "    1. Use clear and descriptive variable names.\n",
    "    2. Keep conditions simple and readable.\n",
    "    3. Avoid deep nesting of conditionals; consider using functions for complex logic.\n",
    "    4. Use comments to explain complex conditions or logic.\n",
    "    5. Test your conditions with various inputs to ensure correctness."
   ]
  }
 ],
 "metadata": {
  "kernelspec": {
   "display_name": "Python 3",
   "language": "python",
   "name": "python3"
  },
  "language_info": {
   "codemirror_mode": {
    "name": "ipython",
    "version": 3
   },
   "file_extension": ".py",
   "mimetype": "text/x-python",
   "name": "python",
   "nbconvert_exporter": "python",
   "pygments_lexer": "ipython3",
   "version": "3.13.0"
  }
 },
 "nbformat": 4,
 "nbformat_minor": 5
}
