{
 "cells": [
  {
   "cell_type": "markdown",
   "id": "10d7bafd",
   "metadata": {},
   "source": [
    "## Polymorphism \n",
    " \n",
    "Polymorphism is a core concept in OOP that allows objects of different classes to be\n",
    "treated as objects of a common superclass.It proviedes a way to perform a single action\n",
    "in diff forms.Polymorphism is typically achieved through method overriding and interfaces !"
   ]
  },
  {
   "cell_type": "markdown",
   "id": "de41520f",
   "metadata": {},
   "source": [
    "1️⃣ Duck Typing\n",
    "\n",
    "\"If it walks like a duck and quacks like a duck, it's a duck.\""
   ]
  },
  {
   "cell_type": "code",
   "execution_count": 1,
   "id": "3eac7da4",
   "metadata": {},
   "outputs": [
    {
     "name": "stdout",
     "output_type": "stream",
     "text": [
      "Woof!\n",
      "Meow!\n"
     ]
    }
   ],
   "source": [
    "class Dog:\n",
    "    def speak(self):\n",
    "        return \"Woof!\"\n",
    "\n",
    "class Cat:\n",
    "    def speak(self):\n",
    "        return \"Meow!\"\n",
    "\n",
    "def animal_sound(animal):\n",
    "    print(animal.speak())\n",
    "\n",
    "d = Dog()\n",
    "c = Cat()\n",
    "\n",
    "animal_sound(d)  # Woof!\n",
    "animal_sound(c)  # Meow!\n"
   ]
  },
  {
   "cell_type": "markdown",
   "id": "222b9db2",
   "metadata": {},
   "source": [
    "2️⃣ Operator Overloading\n",
    "\n",
    "Python allows classes to define their own behavior for built-in operators like +, -, *, etc."
   ]
  },
  {
   "cell_type": "code",
   "execution_count": 2,
   "id": "3bd2b632",
   "metadata": {},
   "outputs": [
    {
     "name": "stdout",
     "output_type": "stream",
     "text": [
      "(4, 6)\n"
     ]
    }
   ],
   "source": [
    "class Point:\n",
    "    def __init__(self, x, y):\n",
    "        self.x = x\n",
    "        self.y = y\n",
    "\n",
    "    def __add__(self, other):\n",
    "        return Point(self.x + other.x, self.y + other.y)\n",
    "\n",
    "    def __str__(self):\n",
    "        return f\"({self.x}, {self.y})\"\n",
    "\n",
    "p1 = Point(1, 2)\n",
    "p2 = Point(3, 4)\n",
    "\n",
    "p3 = p1 + p2\n",
    "print(p3)  # (4, 6)\n"
   ]
  },
  {
   "cell_type": "markdown",
   "id": "caf9b819",
   "metadata": {},
   "source": [
    "3️⃣ Method Overloading\n",
    "\n",
    "Python does not support method overloading by default (same function name with different signatures). But you can mimic it using default arguments or *args."
   ]
  },
  {
   "cell_type": "code",
   "execution_count": 3,
   "id": "2805c10f",
   "metadata": {},
   "outputs": [
    {
     "name": "stdout",
     "output_type": "stream",
     "text": [
      "Hello!\n",
      "Hello Alice!\n"
     ]
    }
   ],
   "source": [
    "class Greet:\n",
    "    def hello(self, name=None):\n",
    "        if name:\n",
    "            print(f\"Hello {name}!\")\n",
    "        else:\n",
    "            print(\"Hello!\")\n",
    "\n",
    "g = Greet()\n",
    "g.hello()        # Hello!\n",
    "g.hello(\"Alice\") # Hello Alice!\n"
   ]
  },
  {
   "cell_type": "markdown",
   "id": "36904131",
   "metadata": {},
   "source": [
    "4️⃣ Method Overriding\n",
    "\n",
    "Method overriding occurs when a child class provides a specific implementation of a method that is already defined in its parent class."
   ]
  },
  {
   "cell_type": "code",
   "execution_count": 4,
   "id": "18c47d2b",
   "metadata": {},
   "outputs": [
    {
     "name": "stdout",
     "output_type": "stream",
     "text": [
      "Dog barks\n",
      "Cat meows\n",
      "Animal speaks\n"
     ]
    }
   ],
   "source": [
    "class Animal:\n",
    "    def speak(self):\n",
    "        return \"Animal speaks\"\n",
    "\n",
    "class Dog(Animal):\n",
    "    def speak(self):\n",
    "        return \"Dog barks\"\n",
    "\n",
    "class Cat(Animal):\n",
    "    def speak(self):\n",
    "        return \"Cat meows\"\n",
    "\n",
    "animals = [Dog(), Cat(), Animal()]\n",
    "for a in animals:\n",
    "    print(a.speak())\n"
   ]
  },
  {
   "cell_type": "markdown",
   "id": "14f3ffd3",
   "metadata": {},
   "source": [
    "## Real-Life Example"
   ]
  },
  {
   "cell_type": "code",
   "execution_count": 5,
   "id": "26a3fa13",
   "metadata": {},
   "outputs": [
    {
     "name": "stdout",
     "output_type": "stream",
     "text": [
      "PDF content\n",
      "Word content\n"
     ]
    }
   ],
   "source": [
    "class Document:\n",
    "    def show(self):\n",
    "        raise NotImplementedError(\"Subclass must implement this method\")\n",
    "\n",
    "class PDF(Document):\n",
    "    def show(self):\n",
    "        return \"PDF content\"\n",
    "\n",
    "class Word(Document):\n",
    "    def show(self):\n",
    "        return \"Word content\"\n",
    "\n",
    "docs = [PDF(), Word()]\n",
    "for doc in docs:\n",
    "    print(doc.show())\n"
   ]
  }
 ],
 "metadata": {
  "kernelspec": {
   "display_name": "Python 3",
   "language": "python",
   "name": "python3"
  },
  "language_info": {
   "codemirror_mode": {
    "name": "ipython",
    "version": 3
   },
   "file_extension": ".py",
   "mimetype": "text/x-python",
   "name": "python",
   "nbconvert_exporter": "python",
   "pygments_lexer": "ipython3",
   "version": "3.13.0"
  }
 },
 "nbformat": 4,
 "nbformat_minor": 5
}
