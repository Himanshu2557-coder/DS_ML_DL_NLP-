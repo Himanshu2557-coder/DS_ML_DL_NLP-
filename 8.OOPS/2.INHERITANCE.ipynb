{
 "cells": [
  {
   "cell_type": "markdown",
   "id": "bb54b09f",
   "metadata": {},
   "source": [
    "## INHERITANCE IN PYTHON\n",
    "\n",
    "Inheritance is fundamnetal concept in OOP that allows a class to inherit attributes\n",
    "and methods from an another class.This lesson covers single inheritance and multiple inheritance ,demonstrating how to create and use them in python."
   ]
  },
  {
   "cell_type": "code",
   "execution_count": null,
   "id": "dadbbd24",
   "metadata": {},
   "outputs": [],
   "source": [
    "## INHERITANCE (single inheritance)\n",
    "## PARENT CLASS\n",
    "class Car :\n",
    "    def __init__(self,windows,doors,enginetype):\n",
    "        self.windows = windows\n",
    "        self.doors = doors\n",
    "        self.enginetype = enginetype\n",
    "\n",
    "    def drive(self):\n",
    "        print(f\"The person will drive the {self.enginetype} car\")\n",
    "\n"
   ]
  },
  {
   "cell_type": "code",
   "execution_count": null,
   "id": "5f93fdef",
   "metadata": {},
   "outputs": [],
   "source": [
    "car1 = Car(4,5,\"petrol\")\n",
    "print(car1.drive())"
   ]
  },
  {
   "cell_type": "code",
   "execution_count": null,
   "id": "e348a456",
   "metadata": {},
   "outputs": [],
   "source": [
    "class Tesla(Car):\n",
    "    def __init__(self, windows, doors, enginetype,is_selfdriving):\n",
    "        super().__init__(windows, doors, enginetype) \n",
    "        ## calling parent class and calling init method from parent class\n",
    "        self.is_selfdriving = is_selfdriving\n",
    "\n",
    "    def selfdriving(self):\n",
    "        print(f'Tesla supports self driving : {self.is_selfdriving}')\n",
    "\n",
    "\n"
   ]
  },
  {
   "cell_type": "code",
   "execution_count": null,
   "id": "c866e50b",
   "metadata": {},
   "outputs": [],
   "source": [
    "tesla1 = Tesla(4,5,\"electric\",True)\n",
    "print(tesla1.selfdriving())"
   ]
  },
  {
   "cell_type": "code",
   "execution_count": null,
   "id": "8fcbc9d3",
   "metadata": {},
   "outputs": [],
   "source": [
    "tesla1.drive()"
   ]
  },
  {
   "cell_type": "code",
   "execution_count": 13,
   "id": "a7afb8ff",
   "metadata": {},
   "outputs": [
    {
     "name": "stdout",
     "output_type": "stream",
     "text": [
      "buddy says woooof \n",
      "Owner:himanshu\n"
     ]
    }
   ],
   "source": [
    "## MULTIPLE INHERITANCE\n",
    "## When a class inherits from more than one base class !\n",
    "## base class : 1\n",
    "class Animal():\n",
    "    def __init__(self,name):\n",
    "        self.name = name\n",
    "    \n",
    "    def speak(self):\n",
    "        print(\"subclasses must implement this method\")\n",
    "\n",
    "## base class 2:\n",
    "class Pet:\n",
    "    def __init__(self,owner):\n",
    "        self.owner = owner\n",
    "\n",
    "## derived class\n",
    "class Dog(Animal,Pet):\n",
    "    def __init__(self, name,owner):\n",
    "        Animal.__init__(self,name)\n",
    "        Pet.__init__(self,owner)\n",
    "\n",
    "    def speak(self):\n",
    "        return f\"{self.name} says woooof \"\n",
    "    \n",
    "\n",
    "## create object\n",
    "dog = Dog('buddy','himanshu')\n",
    "print(dog.speak())\n",
    "print(f\"Owner:{dog.owner}\")\n",
    "        "
   ]
  }
 ],
 "metadata": {
  "kernelspec": {
   "display_name": "Python 3",
   "language": "python",
   "name": "python3"
  },
  "language_info": {
   "codemirror_mode": {
    "name": "ipython",
    "version": 3
   },
   "file_extension": ".py",
   "mimetype": "text/x-python",
   "name": "python",
   "nbconvert_exporter": "python",
   "pygments_lexer": "ipython3",
   "version": "3.13.0"
  }
 },
 "nbformat": 4,
 "nbformat_minor": 5
}
