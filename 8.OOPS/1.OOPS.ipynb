{
 "cells": [
  {
   "cell_type": "markdown",
   "id": "4b9c8061",
   "metadata": {},
   "source": [
    "## CLASSES AND OBJECTS\n",
    "\n",
    "OBJECT ORIENTED PROGRAMMING(OOP) is a programming paradigm that uses objetcs to  design applications\n",
    "and computer programs . OOP allows for modelling real world applications using class and objects."
   ]
  },
  {
   "cell_type": "code",
   "execution_count": null,
   "id": "38f818ac",
   "metadata": {},
   "outputs": [],
   "source": [
    "##  A class is blueprint for creating objects .Attributes,methods\n",
    "class Car:\n",
    "    pass\n",
    "audi = Car()\n",
    "bmw = Car()\n",
    "print(type(audi))   \n",
    "\n",
    "print(audi)\n",
    "\n",
    "audi.windows = 4\n",
    "print(audi.windows)"
   ]
  },
  {
   "cell_type": "code",
   "execution_count": null,
   "id": "fe3cb1d6",
   "metadata": {},
   "outputs": [],
   "source": [
    "## Instance varibale and methods\n",
    "class Dog:\n",
    "    ## constructor\n",
    "    def __init__(self,name,age):\n",
    "        self.name = name\n",
    "        self.age = age\n",
    "\n",
    "## create objects\n",
    "dog1 = Dog(\"buddy\",3)\n",
    "print(dog1)\n",
    "print(dog1.name)\n",
    "print(dog1.age)"
   ]
  },
  {
   "cell_type": "code",
   "execution_count": null,
   "id": "586502aa",
   "metadata": {},
   "outputs": [],
   "source": [
    "dog2 = Dog(\"bruno\",5)\n",
    "print(dog2.age)\n",
    "print(dog2.name)"
   ]
  },
  {
   "cell_type": "code",
   "execution_count": null,
   "id": "c244a5fa",
   "metadata": {},
   "outputs": [],
   "source": [
    "## DEFINE A CLASS WITH  INSTANCE METHODS\n",
    "class Dog:\n",
    "    def __init__(self,name,age):\n",
    "        self.name = name\n",
    "        self.age = age\n",
    "\n",
    "    def bark(self):\n",
    "        print(f\"{self.name} says woof\")\n",
    "\n",
    "dog1 = Dog(\"buddy\",3)\n",
    "dog1.bark()\n",
    "\n",
    "dog2 =Dog(\"charlie\",6)\n",
    "dog2.bark()\n"
   ]
  },
  {
   "cell_type": "code",
   "execution_count": 14,
   "id": "2dd2fc15",
   "metadata": {},
   "outputs": [
    {
     "name": "stdout",
     "output_type": "stream",
     "text": [
      "5000\n"
     ]
    }
   ],
   "source": [
    "## Modeling a bank account \n",
    "## define a class for bank acc.\n",
    "\n",
    "class BankAccount :\n",
    "     def __init__(self,ownwer,balance = 0):\n",
    "          self.owner = ownwer\n",
    "          self.balance = balance\n",
    "\n",
    "     def deposit(self,amount):\n",
    "          self.balance+=amount\n",
    "          print(f\"{amount} is deposited.New balance is {self.balance}\")\n",
    "\n",
    "     def withdarw(self,amount) :\n",
    "          if amount>self.balance:\n",
    "               print(\"not allowed as fund is not sufficient\")\n",
    "          else:\n",
    "               self.balance-=amount\n",
    "               print(f\"{amount} is withdrawn.New balance is {self.balance}\")\n",
    "\n",
    "     def get_balance(self,balance) :\n",
    "          return self.balance\n",
    "\n",
    "## create an account\n",
    "\n",
    "account = BankAccount(\"himanshu\",5000)\n",
    "print(account.balance)"
   ]
  },
  {
   "cell_type": "code",
   "execution_count": 15,
   "id": "4ea016d7",
   "metadata": {},
   "outputs": [
    {
     "name": "stdout",
     "output_type": "stream",
     "text": [
      "100 is deposited.New balance is 5100\n"
     ]
    }
   ],
   "source": [
    "## call instance methods\n",
    "account.deposit(100)\n"
   ]
  },
  {
   "cell_type": "code",
   "execution_count": 16,
   "id": "903e6cc4",
   "metadata": {},
   "outputs": [
    {
     "name": "stdout",
     "output_type": "stream",
     "text": [
      "300 is withdrawn.New balance is 4800\n"
     ]
    }
   ],
   "source": [
    "account.withdarw(300)"
   ]
  },
  {
   "cell_type": "code",
   "execution_count": 17,
   "id": "bd3d4ff0",
   "metadata": {},
   "outputs": [
    {
     "name": "stdout",
     "output_type": "stream",
     "text": [
      "4800\n"
     ]
    }
   ],
   "source": [
    "print(account.balance)"
   ]
  }
 ],
 "metadata": {
  "kernelspec": {
   "display_name": "Python 3",
   "language": "python",
   "name": "python3"
  },
  "language_info": {
   "codemirror_mode": {
    "name": "ipython",
    "version": 3
   },
   "file_extension": ".py",
   "mimetype": "text/x-python",
   "name": "python",
   "nbconvert_exporter": "python",
   "pygments_lexer": "ipython3",
   "version": "3.13.0"
  }
 },
 "nbformat": 4,
 "nbformat_minor": 5
}
