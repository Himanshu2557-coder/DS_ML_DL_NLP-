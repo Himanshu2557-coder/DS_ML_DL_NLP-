{
 "cells": [
  {
   "cell_type": "markdown",
   "id": "03c39549",
   "metadata": {},
   "source": [
    "## FILE OPERATIONS - READ & WRITE\n",
    "\n",
    "File handling is a crucial part of any programming language.Python provides in-built\n",
    "functions and methods to read from and write files ,both text and binary !"
   ]
  },
  {
   "cell_type": "code",
   "execution_count": null,
   "id": "3e933fbf",
   "metadata": {},
   "outputs": [],
   "source": [
    "## read whole file\n",
    " \n",
    "with open('example.txt','r') as file:\n",
    "    for line in file :\n",
    "        content = file.read()\n",
    "        print(content)"
   ]
  },
  {
   "cell_type": "code",
   "execution_count": null,
   "id": "d58e7718",
   "metadata": {},
   "outputs": [],
   "source": [
    "## read a file line by line :\n",
    "with open('example.txt','r') as file:\n",
    "    for line in file:\n",
    "        print(line.strip())"
   ]
  },
  {
   "cell_type": "code",
   "execution_count": null,
   "id": "a6ba04db",
   "metadata": {},
   "outputs": [],
   "source": [
    "## writing a file\n",
    "\n",
    "with open('example.txt' ,'w') as file:\n",
    "    file.write(\"hello himanshu world \\n\")\n",
    "    file.write('this is a new line ')\n",
    "\n",
    "    ## content gets overwrite here \n",
    "    ## bad practice"
   ]
  },
  {
   "cell_type": "code",
   "execution_count": null,
   "id": "7919c294",
   "metadata": {},
   "outputs": [],
   "source": [
    "## write a file without overwrting\n",
    "with open('example.txt','a') as file:\n",
    "    file.write(\"Append operation is taking place \\n\")"
   ]
  },
  {
   "cell_type": "code",
   "execution_count": null,
   "id": "ee45e275",
   "metadata": {},
   "outputs": [],
   "source": [
    "## writing a list of lines to file\n",
    "lines = ['first line\\n','second line\\n','third line\\n']\n",
    "with open('example.txt','a') as file:\n",
    "    file.writelines(lines)\n"
   ]
  },
  {
   "cell_type": "markdown",
   "id": "7632ba93",
   "metadata": {},
   "source": [
    "## BINARY FILES\n"
   ]
  },
  {
   "cell_type": "code",
   "execution_count": null,
   "id": "181ee826",
   "metadata": {},
   "outputs": [],
   "source": [
    "## binary files\n",
    "\n",
    "## writing to a binary file\n",
    "data = b'\\x00\\x01\\x02\\x03\\x04'\n",
    "with open('example.bin','wb') as file:\n",
    "    file.write(data)"
   ]
  },
  {
   "cell_type": "code",
   "execution_count": null,
   "id": "e62d99a2",
   "metadata": {},
   "outputs": [],
   "source": [
    "## reading to a binary file\n",
    "\n",
    "with open('example.bin','rb') as file:\n",
    "    content = file.read()\n",
    "    print(content)"
   ]
  },
  {
   "cell_type": "code",
   "execution_count": 18,
   "id": "f416cdd1",
   "metadata": {},
   "outputs": [],
   "source": [
    "## read content from source text file amnd write to destination text file\n",
    "## copying a text file\n",
    "\n",
    "with open('example.txt','r') as source_file :\n",
    "    content = source_file.read()\n",
    "\n",
    "with open('destination.txt','w') as destination_file:\n",
    "    destination_file.write(content)\n",
    "\n"
   ]
  },
  {
   "cell_type": "markdown",
   "id": "1c5db911",
   "metadata": {},
   "source": [
    "w+ mode is used for both reading and writing .If file is not there new file is created .If already content is overwritten "
   ]
  },
  {
   "cell_type": "code",
   "execution_count": 20,
   "id": "870ad5fe",
   "metadata": {},
   "outputs": [
    {
     "name": "stdout",
     "output_type": "stream",
     "text": [
      "hey hello world\n",
      "this is a new line\n"
     ]
    }
   ],
   "source": [
    "## writing and then reading a file:\n",
    "with open('example.txt','w+') as file:\n",
    "    file.write(\"hey hello world\\n\")\n",
    "    file.write(\"this is a new line\")\n",
    "\n",
    "    ## move cursor to begining\n",
    "    file.seek(0)\n",
    "\n",
    "    ## read content of file\n",
    "    content = file.read()\n",
    "    print(content)\n",
    "\n"
   ]
  }
 ],
 "metadata": {
  "kernelspec": {
   "display_name": "Python 3",
   "language": "python",
   "name": "python3"
  },
  "language_info": {
   "codemirror_mode": {
    "name": "ipython",
    "version": 3
   },
   "file_extension": ".py",
   "mimetype": "text/x-python",
   "name": "python",
   "nbconvert_exporter": "python",
   "pygments_lexer": "ipython3",
   "version": "3.13.0"
  }
 },
 "nbformat": 4,
 "nbformat_minor": 5
}
