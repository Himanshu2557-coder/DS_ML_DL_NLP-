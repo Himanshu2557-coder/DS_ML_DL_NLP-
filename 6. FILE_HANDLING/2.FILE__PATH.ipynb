{
 "cells": [
  {
   "cell_type": "markdown",
   "id": "334d84eb",
   "metadata": {},
   "source": [
    "## PATH OF A FILE !\n"
   ]
  },
  {
   "cell_type": "code",
   "execution_count": null,
   "id": "1947f67c",
   "metadata": {},
   "outputs": [],
   "source": [
    "## creating a new directory \n",
    "import os\n",
    "new_directory = 'package'\n",
    "os.mkdir(new_directory)\n",
    "print(f\"Directory '{new_directory}' create\")\n"
   ]
  },
  {
   "cell_type": "code",
   "execution_count": null,
   "id": "374400ea",
   "metadata": {},
   "outputs": [],
   "source": [
    "## lsiting files and directories\n",
    "items = os.listdir('.')\n",
    "print(items)\n"
   ]
  },
  {
   "cell_type": "code",
   "execution_count": null,
   "id": "388f573d",
   "metadata": {},
   "outputs": [],
   "source": [
    "## joining paths\n",
    "dir_name = 'fodlder'\n",
    "file_name = 'file.txt'\n",
    "full_path = os.path.join(dir_name , file_name)\n",
    "print(full_path)"
   ]
  },
  {
   "cell_type": "code",
   "execution_count": 6,
   "id": "6c574c77",
   "metadata": {},
   "outputs": [
    {
     "name": "stdout",
     "output_type": "stream",
     "text": [
      "c:\\Users\\himanshu\\code\\6.FILE-HANDLING\\fodlder\\file.txt\n"
     ]
    }
   ],
   "source": [
    "dir_name = 'fodlder'\n",
    "file_name = 'file.txt'\n",
    "full_path = os.path.join(os.getcwd(),dir_name , file_name)\n",
    "print(full_path)"
   ]
  },
  {
   "cell_type": "code",
   "execution_count": 7,
   "id": "33c462c6",
   "metadata": {},
   "outputs": [
    {
     "name": "stdout",
     "output_type": "stream",
     "text": [
      "THE PATH'example1.txt' does not exists \n"
     ]
    }
   ],
   "source": [
    "path = 'example1.txt'\n",
    "if os.path.exists(path):\n",
    "    print(f\"THE PATH'{path}' exists\")\n",
    "else:\n",
    "    print(f\"THE PATH'{path}' does not exists \")"
   ]
  },
  {
   "cell_type": "code",
   "execution_count": 8,
   "id": "e73f8206",
   "metadata": {},
   "outputs": [
    {
     "name": "stdout",
     "output_type": "stream",
     "text": [
      "c:\\Users\\himanshu\\code\\6.FILE-HANDLING\\example.txt\n"
     ]
    }
   ],
   "source": [
    "## getting absolute path\n",
    "\n",
    "relative_path = 'example.txt'\n",
    "absolute_path = os.path.abspath(relative_path)\n",
    "print(absolute_path)"
   ]
  }
 ],
 "metadata": {
  "kernelspec": {
   "display_name": "Python 3",
   "language": "python",
   "name": "python3"
  },
  "language_info": {
   "codemirror_mode": {
    "name": "ipython",
    "version": 3
   },
   "file_extension": ".py",
   "mimetype": "text/x-python",
   "name": "python",
   "nbconvert_exporter": "python",
   "pygments_lexer": "ipython3",
   "version": "3.13.0"
  }
 },
 "nbformat": 4,
 "nbformat_minor": 5
}
