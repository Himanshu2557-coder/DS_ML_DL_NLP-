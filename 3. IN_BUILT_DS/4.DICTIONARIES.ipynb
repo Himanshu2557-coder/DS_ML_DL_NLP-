{
 "cells": [
  {
   "cell_type": "markdown",
   "id": "cef39592",
   "metadata": {},
   "source": [
    "## DICTIONARIES IN PYTHON \n",
    "1. intro\n",
    "2. creating\n",
    "3. accesing\n",
    "4. modifying\n",
    "5. dictionaries methods\n",
    "6. iterating over dictionaries\n",
    "7. nested dictionaries\n",
    "8. dictionary comprehensions\n",
    "9. practical examples and common errors\n"
   ]
  },
  {
   "cell_type": "markdown",
   "id": "39779987",
   "metadata": {},
   "source": [
    "## INTRO\n",
    "Dictonaries are unordered collection of items .They store data in key-value pairs. Keys must be unique and\n",
    "immutable , while values can be of any type !!"
   ]
  },
  {
   "cell_type": "code",
   "execution_count": null,
   "id": "317d2de3",
   "metadata": {},
   "outputs": [],
   "source": [
    "## creating dictionary\n",
    "my_dict = {\n",
    "    \"name\": \"Himanshu\",\n",
    "    \"age\": 25,\n",
    "    \"city\": \"Delhi\"\n",
    "}\n"
   ]
  },
  {
   "cell_type": "code",
   "execution_count": null,
   "id": "c6929925",
   "metadata": {},
   "outputs": [],
   "source": [
    "student = { \"name\": \"Himanshu\",\n",
    "    \"age\": 25,  \n",
    "    \"city\": \"Delhi\",\n",
    "    \"marks\": [90, 85, 88],\n",
    "    \"is_graduated\": True,\n",
    "    \"courses\": [\"Math\", \"Science\", \"History\"],\n",
    "    \"address\": {\n",
    "        \"street\": \"123 Main St\",\n",
    "        \"city\": \"Delhi\",\n",
    "        \"zip\": \"110001\"\n",
    "    }   \n",
    "}\n",
    "print(student)\n",
    "print(type(student))"
   ]
  },
  {
   "cell_type": "code",
   "execution_count": null,
   "id": "087012da",
   "metadata": {},
   "outputs": [],
   "source": [
    "## accessing values\n",
    "## create a dictionary with key-value pairs\n",
    "my_dict = {\n",
    "    \"name\": \"Himanshu\",\n",
    "    \"age\": 25,\n",
    "    \"city\": \"Delhi\"\n",
    "}\n",
    "\n",
    "print(my_dict[\"name\"])  # Output: Himanshu\n",
    "print(my_dict[\"age\"])   # Output: 25\n",
    "print(my_dict[\"city\"])  # Output: Delhi\n"
   ]
  },
  {
   "cell_type": "code",
   "execution_count": null,
   "id": "dc460857",
   "metadata": {},
   "outputs": [],
   "source": [
    "## accesing using get method\n",
    "print(my_dict.get(\"name\"))  # Output: Himanshu\n",
    "print(my_dict.get(\"age\"))   # Output: 25\n",
    "print(my_dict.get(\"city\"))  # Output: Delhi\n",
    "print(my_dict.get(\"country\", \"Not Found\"))  # Output: Not Found (default value if key doesn't exist)\n",
    "print(my_dict.get(\"country\"))  # Output: None (default value if key doesn't exist)\n"
   ]
  },
  {
   "cell_type": "code",
   "execution_count": null,
   "id": "3ea45f9f",
   "metadata": {},
   "outputs": [],
   "source": [
    "## modifiying values\n",
    "## mutable but key should be unique\n",
    "my_dict[\"age\"] = 26\n",
    "my_dict[\"city\"] = \"Mumbai\"\n",
    "print(my_dict)  # Output: {'name': 'Himanshu', 'age': 26, 'city': 'Mumbai'}\n",
    "\n",
    "## deleting values\n",
    "del my_dict[\"city\"]\n",
    "print(my_dict)  # Output: {'name': 'Himanshu', 'age': 26}\n"
   ]
  },
  {
   "cell_type": "code",
   "execution_count": null,
   "id": "66efe5a7",
   "metadata": {},
   "outputs": [],
   "source": [
    "## adding new key-value pairs\n",
    "my_dict[\"country\"] = \"India\"\n",
    "print(my_dict)  # Output: {'name': 'Himanshu', 'age': 26, 'country': 'India'}\n",
    "## checking if key exists\n",
    "print(\"name\" in my_dict)  # Output: True\n",
    "print(\"city\" in my_dict)  # Output: False (since we deleted it)\n"
   ]
  },
  {
   "cell_type": "code",
   "execution_count": null,
   "id": "38fb95e4",
   "metadata": {},
   "outputs": [],
   "source": [
    "## dictionary methods\n",
    "print(my_dict.keys())  # Output: dict_keys(['name', 'age', 'country'])\n",
    "print(my_dict.values())  # Output: dict_values(['Himanshu', 26, 'India'])\n",
    "print(my_dict.items())  # Output: dict_items([('name', 'Himanshu'), ('age', 26), ('country', 'India')])\n"
   ]
  },
  {
   "cell_type": "code",
   "execution_count": null,
   "id": "928671df",
   "metadata": {},
   "outputs": [],
   "source": [
    "## shallow copy\n",
    "shallow_copy_dict = my_dict.copy()\n",
    "print(shallow_copy_dict)  # Output: {'name': 'Himanshu', 'age': 26, 'country': 'India'}\n"
   ]
  },
  {
   "cell_type": "code",
   "execution_count": null,
   "id": "c0aa2d38",
   "metadata": {},
   "outputs": [],
   "source": [
    "## iterating through dictionary\n",
    "for key, value in my_dict.items():\n",
    "    print(f\"{key}: {value}\")\n",
    "\n"
   ]
  },
  {
   "cell_type": "code",
   "execution_count": null,
   "id": "dffecf02",
   "metadata": {},
   "outputs": [],
   "source": [
    "## nested dictionaries\n",
    "nested_dict = {\n",
    "    \"student\": {\n",
    "        \"name\": \"Himanshu\",\n",
    "        \"age\": 25,\n",
    "        \"courses\": [\"Math\", \"Science\"]\n",
    "    },\n",
    "    \"teacher\": {\n",
    "        \"name\": \"Mr. Sharma\",\n",
    "        \"subject\": \"Physics\"\n",
    "    }\n",
    "}\n",
    "print(nested_dict[\"student\"][\"name\"])  # Output: Himanshu\n",
    "print(nested_dict[\"teacher\"][\"subject\"])  # Output: Physics\n"
   ]
  },
  {
   "cell_type": "code",
   "execution_count": null,
   "id": "5722c14b",
   "metadata": {},
   "outputs": [],
   "source": [
    "## dictionary comprehension\n",
    "squares = {x: x**2 for x in range(1, 6)}\n",
    "print(squares)  # Output: {1: 1, 2: 4, 3: 9, 4: 16, 5: 25}"
   ]
  },
  {
   "cell_type": "code",
   "execution_count": null,
   "id": "db2ded10",
   "metadata": {},
   "outputs": [],
   "source": [
    "## condtion in dictionary comprehension\n",
    "even_squares = {x: x**2 for x in range(1, 11) if x % 2 == 0}\n",
    "print(even_squares)  # Output: {2: 4, 4: 16, 6: 36, 8: 64, 10: 100}\n",
    "print(type(even_squares))  # Output: <class 'dict'>\n",
    "\n",
    "\n",
    "## dictionary comprehension with if-else\n",
    "even_odd_squares = {x: \"Even\" if x % 2 ==\n",
    "0 else \"Odd\" for x in range(1, 11)}\n",
    "print(even_odd_squares)  # Output: {1: 'Odd', 2: 'Even', 3: 'Odd', 4: 'Even', 5: 'Odd', 6: 'Even', 7: 'Odd', 8: 'Even', 9: 'Odd', 10: 'Even'}\n"
   ]
  },
  {
   "cell_type": "code",
   "execution_count": null,
   "id": "5ea69526",
   "metadata": {},
   "outputs": [],
   "source": [
    "## practical example\n",
    "student_info = {\n",
    "    \"name\": \"Himanshu\",\n",
    "    \"age\": 25,\n",
    "    \"courses\": [\"Math\", \"Science\", \"History\"],\n",
    "    \"marks\": [90, 85, 88],\n",
    "    \"is_graduated\": True,\n",
    "    \"address\": {\n",
    "        \"street\": \"123 Main St\",\n",
    "        \"city\": \"Delhi\",\n",
    "        \"zip\": \"110001\"\n",
    "    }\n",
    "}\n",
    "print(student_info[\"name\"])  # Output: Himanshu\n",
    "print(student_info[\"courses\"])  # Output: ['Math', 'Science', 'History']\n",
    "print(student_info[\"address\"][\"city\"])  # Output: Delhi\n",
    "print(student_info[\"marks\"][0])  # Output: 90\n",
    "\n",
    "## dictionary with mixed data types\n",
    "mixed_dict = {\n",
    "    \"name\": \"Himanshu\",\n",
    "    \"age\": 25,\n",
    "    \"is_student\": True,\n",
    "    \"grades\": [90, 85, 88],\n",
    "    \"address\": {\n",
    "        \"street\": \"123 Main St\",\n",
    "        \"city\": \"Delhi\"\n",
    "    }\n",
    "}\n",
    "print(mixed_dict[\"name\"])  # Output: Himanshu\n",
    "print(mixed_dict[\"grades\"])  # Output: [90, 85, 88]\n",
    "print(mixed_dict[\"address\"][\"city\"])  # Output: Delhi\n",
    "\n",
    "## dictionary with list of dictionaries\n",
    "students = [\n",
    "    {\"name\": \"Himanshu\", \"age\": 25, \"city\": \"Delhi\"},\n",
    "    {\"name\": \"Amit\", \"age\": 22, \"city\": \"Mumbai\"},\n",
    "    {\"name\": \"Sita\", \"age\": 24, \"city\": \"Bangalore\"}\n",
    "]\n",
    "for student in students:\n",
    "    print(f\"Name: {student['name']}, Age: {student['age']}, City: {student['city']}\")\n",
    "    "
   ]
  }
 ],
 "metadata": {
  "kernelspec": {
   "display_name": "Python 3",
   "language": "python",
   "name": "python3"
  },
  "language_info": {
   "codemirror_mode": {
    "name": "ipython",
    "version": 3
   },
   "file_extension": ".py",
   "mimetype": "text/x-python",
   "name": "python",
   "nbconvert_exporter": "python",
   "pygments_lexer": "ipython3",
   "version": "3.13.0"
  }
 },
 "nbformat": 4,
 "nbformat_minor": 5
}
