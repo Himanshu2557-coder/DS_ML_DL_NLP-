{
 "cells": [
  {
   "cell_type": "markdown",
   "id": "75985a34",
   "metadata": {},
   "source": [
    "## SETS IN PYTHON\n",
    "\n",
    "Sets are built in data types in python used to store  collection of unique items . They are unordered ,\n",
    "meaning that elements do not follow a specific order , and they do not allow duplicate elemnets .\n",
    "Sets are useful for membership tests , eliminating duplicate entries , and performing mathematical set operations like\n",
    "intersection , difference , and symmetric difference !"
   ]
  },
  {
   "cell_type": "code",
   "execution_count": null,
   "id": "53281e20",
   "metadata": {},
   "outputs": [],
   "source": [
    "## create a set\n",
    "my_set = {1, 2, 3, 4, 5}\n",
    "print(my_set)\n",
    "print(type(my_set))\n"
   ]
  },
  {
   "cell_type": "code",
   "execution_count": null,
   "id": "8dac50e3",
   "metadata": {},
   "outputs": [],
   "source": [
    "## empty set\n",
    "empty_set = set()\n",
    "print(empty_set)\n",
    "print(type(empty_set))\n"
   ]
  },
  {
   "cell_type": "code",
   "execution_count": null,
   "id": "e9801d19",
   "metadata": {},
   "outputs": [],
   "source": [
    "## elments in a set\n",
    "my_set = {1, 2, 3, 4, 5}\n",
    "print(my_set)\n",
    "print(1 in my_set)  # True\n",
    "print(6 in my_set)  # False"
   ]
  },
  {
   "cell_type": "code",
   "execution_count": null,
   "id": "8b9b3f62",
   "metadata": {},
   "outputs": [],
   "source": [
    "## basic set operations\n",
    "my_set = {1, 2, 3, 4, 5}\n",
    "print(my_set)\n",
    "print(len(my_set))  # Length of the set\n",
    "\n",
    "## adding elements to a set\n",
    "my_set = {1, 2, 3, 4, 5}\n",
    "my_set.add(6)  # Add a single element\n",
    "print(my_set)\n",
    "my_set.update([7, 8])  # Add multiple elements\n",
    "print(my_set)\n",
    "\n",
    "\n",
    "## removing elements from a set\n",
    "my_set = {1, 2, 3, 4, 5}\n",
    "my_set.remove(3)  # Remove a specific element\n",
    "print(my_set)\n",
    "my_set.discard(4)  # Remove an element without raising an error if it doesn't exist\n",
    "print(my_set)\n",
    "my_set.pop()  # Remove and return an arbitrary element\n",
    "print(my_set)\n",
    "\n",
    "\n",
    "\n"
   ]
  },
  {
   "cell_type": "code",
   "execution_count": null,
   "id": "0cd9898a",
   "metadata": {},
   "outputs": [],
   "source": [
    "## set membership test\n",
    "my_set = {1, 2, 3, 4, 5}\n",
    "print(1 in my_set)  # True\n",
    "print(6 in my_set)  # False\n"
   ]
  },
  {
   "cell_type": "code",
   "execution_count": null,
   "id": "10d9683e",
   "metadata": {},
   "outputs": [],
   "source": [
    "## mathematical set operations\n",
    "set_a = {1, 2, 3}\n",
    "set_b = {3, 4, 5}\n",
    "print(set_a.union(set_b))  # Union\n",
    "print(set_a.intersection(set_b))  # Intersection\n",
    "print(set_a.difference(set_b))  # Difference\n",
    "print(set_a.symmetric_difference(set_b))  # Symmetric Difference\n"
   ]
  },
  {
   "cell_type": "code",
   "execution_count": null,
   "id": "4aad1771",
   "metadata": {},
   "outputs": [],
   "source": [
    "## sets methods\n",
    "set1   = {1, 2, 3}\n",
    "set2   = {3, 4, 5}\n",
    "print(set1.issubset(set2))  # Check if set1 is a subset of set2\n",
    "print(set1.issuperset(set2))  # Check if set1 is a superset of set2\n",
    "print(set1.isdisjoint(set2))  # Check if set1 and set2 have no elements in common\n",
    "\n"
   ]
  },
  {
   "cell_type": "code",
   "execution_count": null,
   "id": "9ff7b3c8",
   "metadata": {},
   "outputs": [],
   "source": [
    "lst =[1, 2, 3, 4, 5]\n",
    "set(lst)  # Convert a list to a set to remove duplicates\n"
   ]
  },
  {
   "cell_type": "code",
   "execution_count": null,
   "id": "680d3270",
   "metadata": {},
   "outputs": [],
   "source": [
    "## counting unique words in a text\n",
    "\n",
    "text = \"hello world hello python\"\n",
    "words = text.split()  # Split the text into words\n",
    "unique_words = set(words)  # Convert the list of words to a set to get unique words\n",
    "print(unique_words)  # Output: {'hello', 'world', 'python'}\n"
   ]
  }
 ],
 "metadata": {
  "kernelspec": {
   "display_name": "Python 3",
   "language": "python",
   "name": "python3"
  },
  "language_info": {
   "codemirror_mode": {
    "name": "ipython",
    "version": 3
   },
   "file_extension": ".py",
   "mimetype": "text/x-python",
   "name": "python",
   "nbconvert_exporter": "python",
   "pygments_lexer": "ipython3",
   "version": "3.13.0"
  }
 },
 "nbformat": 4,
 "nbformat_minor": 5
}
