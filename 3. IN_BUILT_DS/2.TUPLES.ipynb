{
 "cells": [
  {
   "cell_type": "markdown",
   "id": "44d04b06",
   "metadata": {},
   "source": [
    "## TUPLES IN PYTHON \n",
    "1. intro\n",
    "2. creating tuples\n",
    "3. accesing tuples\n",
    "4. tuple operations\n",
    "5. immutable nature of tuples\n",
    "6. tuple methods\n",
    "7. packing and unpacking of tuples\n",
    "8. nested tuples\n",
    "9. practical examples and coomon errors"
   ]
  },
  {
   "cell_type": "markdown",
   "id": "bb2d3506",
   "metadata": {},
   "source": [
    "## INTRODUCTION\n",
    "Tuples are ordered collection of items that are immutable. They are similar\n",
    "to list but their immutability makes them different."
   ]
  },
  {
   "cell_type": "code",
   "execution_count": null,
   "id": "d7b6c3e8",
   "metadata": {},
   "outputs": [],
   "source": [
    "## creating a tuple\n",
    "empty_tuple = ()  # An empty tuple\n",
    "single_element_tuple = (1,)  # A tuple with a single element (note the comma)\n",
    "my_tuple = (1, 2, 3, 4, 5)  # A simple tuple\n",
    "print(my_tuple)"
   ]
  },
  {
   "cell_type": "code",
   "execution_count": null,
   "id": "9eb326f9",
   "metadata": {},
   "outputs": [],
   "source": [
    "lst = list()\n",
    "print(type(lst))  # Output: <class 'list'>\n",
    "tpl = tuple()\n",
    "print(type(tpl))  # Output: <class 'tuple'>\n"
   ]
  },
  {
   "cell_type": "code",
   "execution_count": null,
   "id": "7f226029",
   "metadata": {},
   "outputs": [],
   "source": [
    "numbers = tuple([1, 2, 3, 4, 5] )\n",
    "print(numbers)  # Output: (1, 2, 3, 4, 5)\n"
   ]
  },
  {
   "cell_type": "code",
   "execution_count": null,
   "id": "933c5006",
   "metadata": {},
   "outputs": [],
   "source": [
    "## mixed tuple\n",
    "mixed_tuple = (1, \"Hello\", 3.14, True)\n",
    "print(mixed_tuple)  # Output: (1, 'Hello', 3.14, True)\n"
   ]
  },
  {
   "cell_type": "code",
   "execution_count": null,
   "id": "bd210976",
   "metadata": {},
   "outputs": [],
   "source": [
    "## accessing elements in a tuple\n",
    "my_tuple = (1, 2, 3, 4, 5)\n",
    "print(my_tuple[0])  # Output: 1\n",
    "print(my_tuple[-1])  # Output: 5\n",
    "print(my_tuple[1:3])  # Output: (2, 3)\n",
    "\n"
   ]
  },
  {
   "cell_type": "code",
   "execution_count": null,
   "id": "0fe9e7c3",
   "metadata": {},
   "outputs": [],
   "source": [
    "## tuples operations\n",
    "my_tuple = (1, 2, 3)\n",
    "print(my_tuple + (4, 5))  # Concatenation: Output: (1, 2, 3, 4, 5)\n",
    "print(my_tuple * 2)  # Repetition: Output: (1, 2, 3, 1, 2, 3)\n",
    "print(3 in my_tuple)  # Membership: Output: True\n",
    "print(len(my_tuple))  # Length: Output: 3\n"
   ]
  },
  {
   "cell_type": "code",
   "execution_count": null,
   "id": "288f5aea",
   "metadata": {},
   "outputs": [],
   "source": [
    " ## immutable nature of tuples \n",
    "# Tuples are immutable, meaning their elements cannot be changed after creation.\n",
    "my_tuple = (1, 2, 3)\n",
    "try:\n",
    "    my_tuple[0] = 10  # This will raise a TypeError\n",
    "except TypeError as e:\n",
    "    print(f\"Error: {e}\")\n",
    "    \n",
    "\n"
   ]
  },
  {
   "cell_type": "code",
   "execution_count": null,
   "id": "da32d030",
   "metadata": {},
   "outputs": [],
   "source": [
    "## tuple methods\n",
    "my_tuple = (1, 2, 3, 2, 1)\n",
    "print(my_tuple.count(2))  # Count of 2: Output: 2\n",
    "print(my_tuple.index(3))  # Index of first occurrence of 3: Output: 2\n"
   ]
  },
  {
   "cell_type": "code",
   "execution_count": null,
   "id": "8b397fe3",
   "metadata": {},
   "outputs": [],
   "source": [
    "## packing and unpacking tuples\n",
    "\n",
    "# Packing a tuple\n",
    "packed_tuple = (1, 2, 3)\n",
    "print(packed_tuple)  # Output: (1, 2, 3)\n",
    "\n",
    "# Unpacking a tuple\n",
    "a, b, c = packed_tuple\n",
    "print(a, b, c)  # Output: 1 2 3\n",
    "\n"
   ]
  },
  {
   "cell_type": "code",
   "execution_count": null,
   "id": "965e2e10",
   "metadata": {},
   "outputs": [],
   "source": [
    "## nested tuples\n",
    "\n",
    "nested_tuple = (1, (2, 3), (4, 5, (6, 7)))\n",
    "print(nested_tuple)  # Output: (1, (2, 3), (4, 5, (6, 7)))\n",
    "# Accessing elements in a nested tuple\n",
    "print(nested_tuple[1])  # Output: (2, 3)\n",
    "print(nested_tuple[2][2])  # Output: (6, 7)\n"
   ]
  },
  {
   "cell_type": "code",
   "execution_count": null,
   "id": "8b72d9aa",
   "metadata": {},
   "outputs": [],
   "source": [
    "## iterating through a tuple\n",
    "my_tuple = (1, 2, 3, 4, 5)\n",
    "for element in my_tuple:\n",
    "    print(element)  # Output: 1 2 3 4 5 (each on a new line)\n",
    "    "
   ]
  }
 ],
 "metadata": {
  "kernelspec": {
   "display_name": "Python 3",
   "language": "python",
   "name": "python3"
  },
  "language_info": {
   "codemirror_mode": {
    "name": "ipython",
    "version": 3
   },
   "file_extension": ".py",
   "mimetype": "text/x-python",
   "name": "python",
   "nbconvert_exporter": "python",
   "pygments_lexer": "ipython3",
   "version": "3.13.0"
  }
 },
 "nbformat": 4,
 "nbformat_minor": 5
}
