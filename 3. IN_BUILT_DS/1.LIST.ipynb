{
 "cells": [
  {
   "cell_type": "markdown",
   "id": "bf763e57",
   "metadata": {},
   "source": [
    "## LIST IN PYTHON\n",
    "1. Lists are ordered ,mutable collection of items\n",
    "2. contain diifernet types of data\n",
    "3. creating lists\n",
    "4. accesing lists\n",
    "5. modifying lists\n",
    "6. list methods\n",
    "7. list slicing \n",
    "8. iterating over lists\n",
    "9. list comprehnesions\n",
    "10. nested lists\n",
    "11. practical examples and common erros"
   ]
  },
  {
   "cell_type": "code",
   "execution_count": null,
   "id": "a6e0e77e",
   "metadata": {},
   "outputs": [],
   "source": [
    "lst = []\n",
    "print(type(lst))"
   ]
  },
  {
   "cell_type": "code",
   "execution_count": null,
   "id": "50999bd1",
   "metadata": {},
   "outputs": [],
   "source": [
    "names = [\"krishna\", \"himanshu\", \"sachin\"]\n",
    "print(type(names))\n",
    "print(names[0])\n",
    "print(names[1])\n",
    "print(names[2])\n"
   ]
  },
  {
   "cell_type": "code",
   "execution_count": null,
   "id": "bfe9a6f9",
   "metadata": {},
   "outputs": [],
   "source": [
    "mixed_list = [1, 2.5, \"hello\", True]\n",
    "print(type(mixed_list))\n"
   ]
  },
  {
   "cell_type": "code",
   "execution_count": null,
   "id": "5716fe6f",
   "metadata": {},
   "outputs": [],
   "source": [
    "## accessing elements in a list\n",
    "fruits = [\"apple\", \"banana\", \"cherry\"]\n",
    "print(fruits[0])  # apple\n",
    "print(fruits[1])  # banana\n",
    "print(fruits[2])  # cherry\n",
    "\n",
    "# accessing elements using negative indexing\n",
    "print(fruits[-1])  # cherry (last element)\n",
    "print(fruits[-2])  # banana (second last element)\n",
    "print(fruits[-3])  # apple (third last element)\n",
    "\n",
    "# accessing elements using slicing\n",
    "print(fruits[0:2])  #  (elements from index 0 to 1)\n",
    "print(fruits[1:])   #  (elements from  index 1 to the end)\n",
    "print(fruits[:2])   #  (elements from the start to index 1)\n",
    "print(fruits[-2:])  #  (elements from second last to the end)\n",
    "print(fruits[-3:-1]) # (elements from third last to second last)\n",
    "\n"
   ]
  },
  {
   "cell_type": "code",
   "execution_count": null,
   "id": "960d881d",
   "metadata": {},
   "outputs": [],
   "source": [
    "## MODIFYING LISTS ELEMENTS\n",
    "\n",
    "# modifying elements in a list\n",
    "fruits = [\"apple\", \"banana\", \"cherry\"]\n",
    "fruits[0] = \"kiwi\"  # change first element\n",
    "print(fruits) \n",
    "fruits[1] = \"orange\"  # change second element\n",
    "print(fruits)  \n",
    "fruits[2] = \"grape\"  # change third element\n",
    "print(fruits)  \n",
    "\n"
   ]
  },
  {
   "cell_type": "code",
   "execution_count": null,
   "id": "c956af24",
   "metadata": {},
   "outputs": [],
   "source": [
    "## LIST METHODS \n",
    "\n",
    "# append() - adds an element to the end of the list\n",
    "fruits = [\"apple\", \"banana\", \"cherry\"]\n",
    "fruits.append(\"orange\")\n",
    "print(fruits)  \n",
    "\n",
    "# insert() - adds an element at a specific index\n",
    "fruits.insert(1, \"kiwi\")  \n",
    "print(fruits)\\\n",
    "\n",
    "# remove() - removes the first occurrence of a specified element\n",
    "fruits.remove(\"banana\")\n",
    "print(fruits)\n",
    "\n",
    "# pop() - removes and returns the element at the specified index (default is the last element\n",
    "fruits.pop()\n",
    "print(fruits)\n",
    "\n",
    "# sort() - sorts the elements of the list in ascending order\n",
    "fruits.sort()\n",
    "print(fruits)\n",
    "\n",
    "# reverse() - reverses the order of the elements in the list\n",
    "fruits.reverse()\n",
    "print(fruits)\n",
    "\n",
    "# extend() - extends the list by appending elements from another iterable\n",
    "fruits.extend([\"mango\", \"papaya\"])\n",
    "print(fruits)\n",
    "\n",
    "# clear() - removes all elements from the list\n",
    "fruits.clear()\n",
    "print(fruits)  # Output: [] (empty list)\n",
    "\n",
    "# count() - returns the number of occurrences of a specified element\n",
    "fruits = [\"apple\", \"banana\", \"cherry\", \"banana\"]\n",
    "print(fruits.count(\"banana\"))  \n",
    "\n",
    "# index() - returns the index of the first occurrence of a specified element\n",
    "print(fruits.index(\"cherry\"))\n",
    "\n",
    "# copy() - returns a shallow copy of the list\n",
    "fruits_copy = fruits.copy()\n",
    "print(fruits_copy)  \n",
    "\n",
    "# join() - joins the elements of the list into a string with a specified separator\n",
    "fruits = [\"apple\", \"banana\", \"cherry\"]\n",
    "fruits_string = \", \".join(fruits)\n",
    "print(fruits_string)  \n",
    "\n",
    "# split() - splits a string into a list of substrings based on a specified separator\n",
    "fruits_string = \"apple, banana, cherry\"\n",
    "fruits_list = fruits_string.split(\", \")\n",
    "print(fruits_list)  \n",
    "\n",
    "# clear() - removes all elements from the list\n",
    "fruits.clear()\n",
    "print(fruits)  # Output: [] (empty list)\n",
    "\n",
    "# copy() - returns a shallow copy of the list\n",
    "fruits_copy = fruits.copy()\n",
    "print(fruits_copy)  # Output: [] (empty list)\n",
    "\n",
    "\n"
   ]
  },
  {
   "cell_type": "code",
   "execution_count": null,
   "id": "43974b7b",
   "metadata": {},
   "outputs": [],
   "source": [
    "## SLICING LISTS\n",
    "\n",
    "numbers = [1, 2, 3, 4, 5, 6, 7, 8, 9]\n",
    "print(numbers[0:3])  # (elements from index 0 to 2)\n",
    "print(numbers[3:6])  #(elements from index 3 to 5)\n",
    "print(numbers[6:])   # (elements from index 6 to the end)\n",
    "print(numbers[:5])   # (elements from the start to index 4) \n",
    "print(numbers[-3:])  # (last three elements)\n",
    "print(numbers[:-3])  # (all elements except the last three)\n",
    "print(numbers[::2])  # (every second element)\n",
    "print(numbers[::-1])  # (reversed list)\n",
    "\n"
   ]
  },
  {
   "cell_type": "code",
   "execution_count": null,
   "id": "a5c029fc",
   "metadata": {},
   "outputs": [],
   "source": [
    "## ITERATING THROUGH LISTS\n",
    "fruits = [\"apple\", \"banana\", \"cherry\"]\n",
    "for fruit in fruits:\n",
    "    print(fruit)\n",
    "for i in range(len(fruits)):\n",
    "    print(fruits[i])\n",
    "for i, fruit in enumerate(fruits):\n",
    "    print(f\"{i}: {fruit}\")  # prints index and fruit"
   ]
  },
  {
   "cell_type": "code",
   "execution_count": null,
   "id": "05b962f7",
   "metadata": {},
   "outputs": [],
   "source": [
    "## LIST COMPREHENSIONS\n",
    "lst = []\n",
    "for  x in range(10):\n",
    "    lst.append(x**2)  # squares of numbers from 0 to 9\n",
    "print(lst)\n"
   ]
  },
  {
   "cell_type": "markdown",
   "id": "2e316f72",
   "metadata": {},
   "source": [
    "#### LIST COMPREHENSION\n",
    "\n",
    "BASIC SYNTAX :              [ expression for item in iterbale]\n",
    "\n",
    "\n",
    "with conditional logic :    [ expression for item in iterable if condition]\n",
    "\n",
    "\n",
    "Nested list comprehension : [ expression for item in iterbale 1  for item2nin iterable 2]"
   ]
  },
  {
   "cell_type": "code",
   "execution_count": null,
   "id": "dd7d433e",
   "metadata": {},
   "outputs": [],
   "source": [
    "### BASIC LIST COMPREHENSION\n",
    "square =[num**2 for num in range(10)]\n",
    "print(square) "
   ]
  },
  {
   "cell_type": "code",
   "execution_count": null,
   "id": "942d24b7",
   "metadata": {},
   "outputs": [],
   "source": [
    "### list comprehension with conditional logic\n",
    "lst =[]\n",
    "for i in range(10):\n",
    "    if i % 2 == 0:  # only even numbers\n",
    "        lst.append(i)\n",
    "print(lst)"
   ]
  },
  {
   "cell_type": "markdown",
   "id": "1c728b52",
   "metadata": {},
   "source": []
  },
  {
   "cell_type": "code",
   "execution_count": null,
   "id": "8275c553",
   "metadata": {},
   "outputs": [],
   "source": [
    "even_numbers = [num for num in range(10) if num % 2 == 0]\n",
    "print(even_numbers)  # Output: [0, 2, 4, 6, 8]"
   ]
  },
  {
   "cell_type": "code",
   "execution_count": 19,
   "id": "36c0d701",
   "metadata": {},
   "outputs": [
    {
     "name": "stdout",
     "output_type": "stream",
     "text": [
      "[[1, 'a'], [1, 'b'], [1, 'c'], [2, 'a'], [2, 'b'], [2, 'c'], [3, 'a'], [3, 'b'], [3, 'c'], [4, 'a'], [4, 'b'], [4, 'c']]\n"
     ]
    }
   ],
   "source": [
    "## NESTED LIST COMPREHENSION\n",
    "lst1 = [1, 2, 3,4]\n",
    "lst2 = ['a' , 'b', 'c']\n",
    "pair = [[a,b] for a in lst1 for b in lst2]\n",
    "print(pair)"
   ]
  },
  {
   "cell_type": "code",
   "execution_count": null,
   "id": "3ea5966f",
   "metadata": {},
   "outputs": [],
   "source": [
    "## LIST COMPREHENSION WITH FUNCTION CALLS\n",
    "words = [\"hello\", \"world\", \"python\"]\n",
    "capitalized_words = [word.upper() for word in words]\n",
    "print(capitalized_words)  # Output: ['HELLO', 'WORLD', 'PYTHON']\n"
   ]
  }
 ],
 "metadata": {
  "kernelspec": {
   "display_name": "Python 3",
   "language": "python",
   "name": "python3"
  },
  "language_info": {
   "codemirror_mode": {
    "name": "ipython",
    "version": 3
   },
   "file_extension": ".py",
   "mimetype": "text/x-python",
   "name": "python",
   "nbconvert_exporter": "python",
   "pygments_lexer": "ipython3",
   "version": "3.13.0"
  }
 },
 "nbformat": 4,
 "nbformat_minor": 5
}
