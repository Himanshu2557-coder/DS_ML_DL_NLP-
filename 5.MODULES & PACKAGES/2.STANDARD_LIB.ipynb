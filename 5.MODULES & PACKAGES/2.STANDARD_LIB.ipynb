{
 "cells": [
  {
   "cell_type": "markdown",
   "id": "5f9d513e",
   "metadata": {},
   "source": [
    "## STANDARD LIBRARY !\n"
   ]
  },
  {
   "cell_type": "code",
   "execution_count": null,
   "id": "6682aa55",
   "metadata": {},
   "outputs": [],
   "source": [
    "import array\n",
    "arr = array.array('i', [1, 2, 3, 4, 5])\n",
    "print(arr)  # This will print the array with integers"
   ]
  },
  {
   "cell_type": "code",
   "execution_count": null,
   "id": "ab03df5d",
   "metadata": {},
   "outputs": [],
   "source": [
    "import math\n",
    "print(math.sqrt(16))  # This will print the square root of 16\n",
    "print(math.pi)  # This will print the value of pi"
   ]
  },
  {
   "cell_type": "code",
   "execution_count": null,
   "id": "e53bd806",
   "metadata": {},
   "outputs": [],
   "source": [
    "import random\n",
    "print(random.randint(1, 10))  # This will print a random integer between 1 and 10\n",
    "print(random.choice(['apple', 'banana', 'cherry']))  # This will print a random choice from the list"
   ]
  },
  {
   "cell_type": "code",
   "execution_count": null,
   "id": "728f9198",
   "metadata": {},
   "outputs": [],
   "source": [
    "## FILE AND DIRECTORY ACCESS\n",
    "\n",
    "import os\n",
    "print(os.getcwd())  # This will print the current working directory"
   ]
  },
  {
   "cell_type": "code",
   "execution_count": null,
   "id": "6f8c1690",
   "metadata": {},
   "outputs": [],
   "source": [
    "os.mkdir('test_dir') # This will create a new directory named 'test_dir'"
   ]
  },
  {
   "cell_type": "code",
   "execution_count": null,
   "id": "95c70452",
   "metadata": {},
   "outputs": [],
   "source": [
    "## HIGH LEVEL OPERATIONS ON FILES AND COLLECTION OF FILES \n",
    "\n",
    "import shutil\n",
    "shutil.copy('source.txt', 'destination.txt')  # This will copy a file from source to destination"
   ]
  },
  {
   "cell_type": "code",
   "execution_count": null,
   "id": "efa136fb",
   "metadata": {},
   "outputs": [],
   "source": [
    "## DATA SERIALIZATION AND DESERIALIZATION\n",
    "\n",
    "import json\n",
    "data= {'name': 'HIMANSHU:', 'AGE': 20}\n",
    "json_str = json.dumps(data)# Serialize to JSON string \n",
    "print(json_str)  # This will print the JSON string\n",
    "print(type(json_str))  # This will print the type of json_str, which is str \n",
    "\n",
    "passed_data = json.loads(json_str)  # Deserialize back to Python object\n",
    "print(passed_data)  # This will print the original dictionary\n",
    "print(type(passed_data))  # This will print the type of passed_data, which is\n"
   ]
  },
  {
   "cell_type": "code",
   "execution_count": null,
   "id": "3a1fef89",
   "metadata": {},
   "outputs": [],
   "source": [
    "## CSV FILES\n",
    "\n",
    "import csv\n",
    "with open('example.csv',mode = 'w',newline ='') as file:\n",
    "    writer = csv.writer(file)\n",
    "    writer.writerow(['name','age'])\n",
    "    writer.writerow(['krish',32])\n",
    "with open('example.csv',mode ='r') as file:\n",
    "    reader = csv.reader(file)\n",
    "    for row in reader:\n",
    "        print(row)"
   ]
  },
  {
   "cell_type": "code",
   "execution_count": 15,
   "id": "86eb01db",
   "metadata": {},
   "outputs": [
    {
     "name": "stdout",
     "output_type": "stream",
     "text": [
      "1752654907.9968796\n",
      "1752654909.9976683\n"
     ]
    }
   ],
   "source": [
    "import time\n",
    "print(time.time())\n",
    "time.sleep(2)\n",
    "print(time.time())"
   ]
  },
  {
   "cell_type": "code",
   "execution_count": 16,
   "id": "2dd21f7d",
   "metadata": {},
   "outputs": [
    {
     "name": "stdout",
     "output_type": "stream",
     "text": [
      "123\n"
     ]
    }
   ],
   "source": [
    "## REGULAR EXPRESSION\n",
    "\n",
    "import re\n",
    "pattern = r'\\d+'\n",
    "text = \" THERE ARE 123 APPLES\"\n",
    "match = re.search(pattern,text)\n",
    "print(match.group())"
   ]
  }
 ],
 "metadata": {
  "kernelspec": {
   "display_name": "Python 3",
   "language": "python",
   "name": "python3"
  },
  "language_info": {
   "codemirror_mode": {
    "name": "ipython",
    "version": 3
   },
   "file_extension": ".py",
   "mimetype": "text/x-python",
   "name": "python",
   "nbconvert_exporter": "python",
   "pygments_lexer": "ipython3",
   "version": "3.13.0"
  }
 },
 "nbformat": 4,
 "nbformat_minor": 5
}
