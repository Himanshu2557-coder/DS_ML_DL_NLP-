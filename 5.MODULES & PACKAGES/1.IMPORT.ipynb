{
 "cells": [
  {
   "cell_type": "markdown",
   "id": "c00556a4",
   "metadata": {},
   "source": [
    "## IMPORTING MODULES AND PACKAGES \n",
    "In python modules and packages help organise and reuse code ."
   ]
  },
  {
   "cell_type": "code",
   "execution_count": null,
   "id": "c7bece64",
   "metadata": {},
   "outputs": [],
   "source": [
    "import math\n",
    "math.sqrt(16)  # This will compute the square root of 16\n"
   ]
  },
  {
   "cell_type": "code",
   "execution_count": null,
   "id": "3c0fb77f",
   "metadata": {},
   "outputs": [],
   "source": [
    "from math import sqrt,pi\n",
    "print(sqrt(16)) # This will also compute the square root of 16\n",
    "print(pi)  # This will print the value of pi\n"
   ]
  },
  {
   "cell_type": "code",
   "execution_count": null,
   "id": "7640f9c4",
   "metadata": {},
   "outputs": [],
   "source": [
    "import numpy as np\n",
    "np.array([1, 2, 3])  # This will create a NumPy array"
   ]
  },
  {
   "cell_type": "code",
   "execution_count": null,
   "id": "2704183f",
   "metadata": {},
   "outputs": [],
   "source": [
    "from math import *\n",
    "sqrt(16)  # This will compute the square root of 16"
   ]
  },
  {
   "cell_type": "code",
   "execution_count": null,
   "id": "8935444c",
   "metadata": {},
   "outputs": [],
   "source": [
    "from package.maths import addition\n",
    "print(addition(5, 3))  # This will print the result of adding 5 and 3"
   ]
  },
  {
   "cell_type": "code",
   "execution_count": null,
   "id": "ef511900",
   "metadata": {},
   "outputs": [],
   "source": [
    "from package import maths\n",
    "print(maths.addition(5, 3))  # This will also print the result"
   ]
  },
  {
   "cell_type": "code",
   "execution_count": 11,
   "id": "9a11771a",
   "metadata": {},
   "outputs": [
    {
     "ename": "ImportError",
     "evalue": "cannot import name 'subtraction' from 'package.maths' (c:\\Users\\himanshu\\code\\5.MODULES AND PACKAGES\\package\\maths.py)",
     "output_type": "error",
     "traceback": [
      "\u001b[31m---------------------------------------------------------------------------\u001b[39m",
      "\u001b[31mImportError\u001b[39m                               Traceback (most recent call last)",
      "\u001b[36mCell\u001b[39m\u001b[36m \u001b[39m\u001b[32mIn[11]\u001b[39m\u001b[32m, line 1\u001b[39m\n\u001b[32m----> \u001b[39m\u001b[32m1\u001b[39m \u001b[38;5;28;01mfrom\u001b[39;00m\u001b[38;5;250m \u001b[39m\u001b[34;01mpackage\u001b[39;00m\u001b[34;01m.\u001b[39;00m\u001b[34;01mmaths\u001b[39;00m\u001b[38;5;250m \u001b[39m\u001b[38;5;28;01mimport\u001b[39;00m subtraction\n\u001b[32m      2\u001b[39m \u001b[38;5;28mprint\u001b[39m(subtraction(\u001b[32m5\u001b[39m, \u001b[32m3\u001b[39m))  \u001b[38;5;66;03m# This will print the result of subtracting 3 from 5\u001b[39;00m\n",
      "\u001b[31mImportError\u001b[39m: cannot import name 'subtraction' from 'package.maths' (c:\\Users\\himanshu\\code\\5.MODULES AND PACKAGES\\package\\maths.py)"
     ]
    }
   ],
   "source": [
    "from package.maths import subtraction\n",
    "print(subtraction(5, 3))  # This will print the result of subtracting 3 from 5"
   ]
  }
 ],
 "metadata": {
  "kernelspec": {
   "display_name": "Python 3",
   "language": "python",
   "name": "python3"
  },
  "language_info": {
   "codemirror_mode": {
    "name": "ipython",
    "version": 3
   },
   "file_extension": ".py",
   "mimetype": "text/x-python",
   "name": "python",
   "nbconvert_exporter": "python",
   "pygments_lexer": "ipython3",
   "version": "3.13.0"
  }
 },
 "nbformat": 4,
 "nbformat_minor": 5
}
