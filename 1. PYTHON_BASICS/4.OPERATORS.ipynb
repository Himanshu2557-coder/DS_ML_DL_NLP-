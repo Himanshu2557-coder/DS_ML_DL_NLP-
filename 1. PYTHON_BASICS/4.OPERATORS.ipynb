{
 "cells": [
  {
   "cell_type": "markdown",
   "id": "24cc1044",
   "metadata": {},
   "source": [
    "## OPERATORS IN PYTHON"
   ]
  },
  {
   "cell_type": "code",
   "execution_count": null,
   "id": "0fc71555",
   "metadata": {},
   "outputs": [],
   "source": [
    "## ARITHMETIC OPERATORS\n",
    "a = 10\n",
    "b = 5\n",
    "sum_result = a + b  # Addition\n",
    "difference_result = a - b  # Subtraction\n",
    "product_result = a * b  # Multiplication\n",
    "quotient_result = a / b  # Division\n",
    "remainder_result = a % b  # Modulus\n",
    "exponent_result = a ** b  # Exponentiation\n",
    "floor_division_result = a // b  # Floor Division\n",
    "print(\"Sum:\", sum_result)\n",
    "print(\"Difference:\", difference_result)\n",
    "print(\"Product:\", product_result)\n",
    "print(\"Quotient:\", quotient_result)\n",
    "print(\"Remainder:\", remainder_result)\n",
    "print(\"Exponent:\", exponent_result)\n",
    "print(\"Floor Division:\", floor_division_result)\n"
   ]
  },
  {
   "cell_type": "code",
   "execution_count": null,
   "id": "6d6acc94",
   "metadata": {},
   "outputs": [],
   "source": [
    "## COMPARISON OPERATORS\n",
    "a = 10\n",
    "b = 5\n",
    "is_equal = a == b  # Equal to\n",
    "is_not_equal = a != b  # Not equal to\n",
    "is_greater = a > b  # Greater than\n",
    "is_less = a < b  # Less than\n",
    "is_greater_or_equal = a >= b  # Greater than or equal to\n",
    "is_less_or_equal = a <= b  # Less than or equal to\n",
    "print(\"Is Equal:\", is_equal)\n",
    "print(\"Is Not Equal:\", is_not_equal)\n",
    "print(\"Is Greater:\", is_greater)\n",
    "print(\"Is Less:\", is_less)\n",
    "print(\"Is Greater or Equal:\", is_greater_or_equal)\n",
    "print(\"Is Less or Equal:\", is_less_or_equal)\n"
   ]
  },
  {
   "cell_type": "code",
   "execution_count": null,
   "id": "73dc18d6",
   "metadata": {},
   "outputs": [],
   "source": [
    "## LOGICAL OPERATORS\n",
    "a = True\n",
    "b = False\n",
    "and_result = a and b  # Logical AND\n",
    "or_result = a or b  # Logical OR\n",
    "not_result = not a  # Logical NOT\n",
    "print(\"AND Result:\", and_result)\n",
    "print(\"OR Result:\", or_result)\n",
    "print(\"NOT Result:\", not_result)\n"
   ]
  },
  {
   "cell_type": "code",
   "execution_count": null,
   "id": "cd8a884a",
   "metadata": {},
   "outputs": [],
   "source": [
    "## ASSIGNMENT OPERATORS\n",
    "a = 10\n",
    "b = 5\n",
    "a += b  # Add and assign\n",
    "b -= 2  # Subtract and assign\n",
    "c = 3\n",
    "d = 4\n",
    "e = 2\n",
    "f = 5\n",
    "a *= c  # Multiply and assign\n",
    "\n",
    "b /= d  # Divide and assign\n",
    "c %= e  # Modulus and assign\n",
    "d **= f  # Exponentiation and assign\n",
    "print(\"a after +=:\", a)\n",
    "print(\"b after -=\", b)\n",
    "print(\"c after %=\", c)\n",
    "print(\"d after **=\", d)\n"
   ]
  },
  {
   "cell_type": "code",
   "execution_count": null,
   "id": "3f487603",
   "metadata": {},
   "outputs": [],
   "source": []
  }
 ],
 "metadata": {
  "kernelspec": {
   "display_name": "Python 3",
   "language": "python",
   "name": "python3"
  },
  "language_info": {
   "codemirror_mode": {
    "name": "ipython",
    "version": 3
   },
   "file_extension": ".py",
   "mimetype": "text/x-python",
   "name": "python",
   "nbconvert_exporter": "python",
   "pygments_lexer": "ipython3",
   "version": "3.13.0"
  }
 },
 "nbformat": 4,
 "nbformat_minor": 5
}
