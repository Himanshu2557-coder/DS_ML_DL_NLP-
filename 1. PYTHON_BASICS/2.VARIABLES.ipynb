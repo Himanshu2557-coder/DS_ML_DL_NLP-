{
 "cells": [
  {
   "cell_type": "markdown",
   "id": "c20680e5",
   "metadata": {},
   "source": [
    "## VARIBALES \n",
    "\n",
    "Variables are used to store data values in Python.\n",
    "In Python, variables are created when you assign a value to them.\n",
    "Variables do not need to be declared with any particular type, and can even change type after they have been set.\n",
    "\n"
   ]
  },
  {
   "cell_type": "code",
   "execution_count": null,
   "id": "a61d5afd",
   "metadata": {},
   "outputs": [],
   "source": [
    "a = 100"
   ]
  },
  {
   "cell_type": "code",
   "execution_count": null,
   "id": "b27b169c",
   "metadata": {},
   "outputs": [],
   "source": [
    "## DECLARING VARIABLES AND ASSIGNING VALUES .......................\n",
    "age = 25\n",
    "name = \"Himanshu\"\n",
    "height = 5.9\n",
    "is_student = True\n",
    "\n",
    "# Printing the variables\n",
    "print(\"age:\",age)\n",
    "print(\"name:\",name)\n",
    "print(height)\n",
    "print(is_student)\n",
    "\n"
   ]
  },
  {
   "cell_type": "code",
   "execution_count": null,
   "id": "7c6e179f",
   "metadata": {},
   "outputs": [],
   "source": [
    "# NAMING CONVENTIONS ......................\n",
    "\n",
    "# 1.Variable names can contain letters, numbers, and underscores.\n",
    "# 2.They must start with a letter or an underscore, not a number.\n",
    "# 3.Variable names are case-sensitive, meaning `age` and `Age` are different variables.\n",
    "# 4.id using reserved keywords as variable names (e.g., `if`, `else`, `while`, etc.).\n",
    "\n",
    "\n",
    "# Example of valid variable names\n",
    "first_name = \"John\"\n",
    "last_name = \"Doe\"\n",
    "age1 = 30\n",
    "height_in_meters = 1.75\n",
    "\n",
    "# Example of invalid variable names\n",
    "1st_name = \"Jane\"  # Cannot start with a number\n",
    "first-name = \"Alice\"  # Cannot contain hyphens\n",
    "class = \"Math\"  # Cannot use reserved keywords\n",
    "\n",
    "# case sensitivity\n",
    "age = 25\n",
    "Age = 30  # Different variable due to case sensitivity\n",
    "# Printing the variables\n",
    "print(\"first_name:\", first_name)\n",
    "print(\"last_name:\", last_name)\n",
    "print(\"age1:\", age1)\n",
    "print(\"height_in_meters:\", height_in_meters)\n",
    "print(\"Age:\", Age)  # This will print the value of the variable Age\n",
    "\n"
   ]
  },
  {
   "cell_type": "code",
   "execution_count": null,
   "id": "7a9173f9",
   "metadata": {},
   "outputs": [],
   "source": [
    "# UNDERSTANDING VARIABLE TYPES ......................\n",
    "\n",
    "# Variables in Python can hold different types of data, such as integers, floats, strings, and booleans.\n",
    "# Here are some examples of different variable types:\n",
    "\n",
    "age = 25  # Integer\n",
    "height = 5.9  # Float\n",
    "name = \"Himanshu\"  # String\n",
    "is_student = True  # Boolean\n",
    "\n",
    "# Printing the variable types\n",
    "print(\"Type of age:\", type(age))\n",
    "print(\"Type of height:\", type(height))\n",
    "print(\"Type of name:\", type(name))\n",
    "print(\"Type of is_student:\", type(is_student))\n"
   ]
  },
  {
   "cell_type": "code",
   "execution_count": null,
   "id": "9592fe39",
   "metadata": {},
   "outputs": [],
   "source": [
    "## type checking and type conversion ......................\n",
    "\n",
    "# You can check the type of a variable using the `type()` function.\n",
    "age = 25\n",
    "print(\"Type of age:\", type(age))\n",
    "\n",
    "# You can also convert between different types using functions like `int()`, `float()`, `str()`, and `bool()`.\n",
    "age_str = str(age)  # Convert integer to string\n",
    "print(\"Age as string:\", age_str)\n",
    "\n",
    "# Converting a string to an integer\n",
    "age_str = \"30\"\n",
    "age_int = int(age_str)  # Convert string to integer\n",
    "print(\"Age as integer:\", age_int)\n",
    "\n"
   ]
  },
  {
   "cell_type": "code",
   "execution_count": null,
   "id": "22df3098",
   "metadata": {},
   "outputs": [],
   "source": [
    "## DYNAMIC TYPING ......................\n",
    "\n",
    "# Python is dynamically typed, meaning you can change the type of a variable at runtime.\n",
    "# For example, you can assign a new value of a different type to the same variable:\n",
    "age = 25  \n",
    "age = \"Twenty-five\"  \n",
    "print(\"New age value:\", age)\n"
   ]
  },
  {
   "cell_type": "code",
   "execution_count": null,
   "id": "32035103",
   "metadata": {},
   "outputs": [],
   "source": [
    "## SIMPLE CALCULATOR ......................\n",
    "num1 = float(input(\"Enter first number: \"))  # Takes input from the user\n",
    "num2 = float(input(\"Enter second number: \"))  # Takes input from the user\n",
    "sum = num1 + num2  # Adds the two numbers\n",
    "difference = num1 - num2  # Subtracts the two numbers\n",
    "product = num1 * num2  # Multiplies the two numbers\n",
    "quotient = num1 / num2  # Divides the two numbers\n",
    "\n",
    "print(\"Sum:\", sum)  # Prints the sum\n",
    "print(\"Difference:\", difference)  # Prints the difference\n",
    "print(\"Product:\", product)  # Prints the product\n",
    "print(\"Quotient:\", quotient)  # Prints the quotient\n",
    "\n"
   ]
  }
 ],
 "metadata": {
  "kernelspec": {
   "display_name": "Python 3",
   "language": "python",
   "name": "python3"
  },
  "language_info": {
   "codemirror_mode": {
    "name": "ipython",
    "version": 3
   },
   "file_extension": ".py",
   "mimetype": "text/x-python",
   "name": "python",
   "nbconvert_exporter": "python",
   "pygments_lexer": "ipython3",
   "version": "3.13.0"
  }
 },
 "nbformat": 4,
 "nbformat_minor": 5
}
