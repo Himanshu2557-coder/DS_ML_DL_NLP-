{
 "cells": [
  {
   "cell_type": "markdown",
   "id": "e569cac7",
   "metadata": {},
   "source": [
    "## PYTHON BASICS "
   ]
  },
  {
   "cell_type": "code",
   "execution_count": 6,
   "id": "8dfa5ac8",
   "metadata": {},
   "outputs": [
    {
     "name": "stdout",
     "output_type": "stream",
     "text": [
      "<class 'int'>\n",
      "<class 'str'>\n"
     ]
    }
   ],
   "source": [
    "# TYPE INTERFERNCE\n",
    "variable = 10\n",
    "print(type(variable))\n",
    "variable = \"krish\"\n",
    "print(type(variable))"
   ]
  },
  {
   "cell_type": "code",
   "execution_count": 7,
   "id": "8e8d3973",
   "metadata": {},
   "outputs": [
    {
     "name": "stdout",
     "output_type": "stream",
     "text": [
      "correct indentation \n",
      "this will print\n",
      "outisde if block\n"
     ]
    }
   ],
   "source": [
    "## CODE EXAMPLES OF INDENTTAION:\n",
    "if True:\n",
    "    print(\"correct indentation \")\n",
    "    if False:\n",
    "        print(\"this won't print \")\n",
    "    print(\"this will print\")\n",
    "print(\"outisde if block\")\n"
   ]
  }
 ],
 "metadata": {
  "kernelspec": {
   "display_name": "Python 3",
   "language": "python",
   "name": "python3"
  },
  "language_info": {
   "codemirror_mode": {
    "name": "ipython",
    "version": 3
   },
   "file_extension": ".py",
   "mimetype": "text/x-python",
   "name": "python",
   "nbconvert_exporter": "python",
   "pygments_lexer": "ipython3",
   "version": "3.13.0"
  }
 },
 "nbformat": 4,
 "nbformat_minor": 5
}
