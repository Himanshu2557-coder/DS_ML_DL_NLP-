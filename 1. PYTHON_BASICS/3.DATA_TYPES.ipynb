{
 "cells": [
  {
   "cell_type": "markdown",
   "id": "591755f3",
   "metadata": {},
   "source": [
    "## DATA TYPES IN PYTHON\n",
    "1. DEFINITON : classification of data which tell teh compiler how porgrammer intends\n",
    "               to work with data\n",
    "               they determine type of operations to be performed on data \n",
    "2. IMPORTANCE : data stored in efficinet way\n",
    "                prevent errors\n",
    "                memory managemnets"
   ]
  },
  {
   "cell_type": "code",
   "execution_count": null,
   "id": "b7bef529",
   "metadata": {},
   "outputs": [],
   "source": [
    "## INTEGERS\n",
    "age = 25  # An integer variable\n",
    "type_of_age = type(age)  # Get the type of the variable"
   ]
  },
  {
   "cell_type": "code",
   "execution_count": null,
   "id": "5d4fc268",
   "metadata": {},
   "outputs": [],
   "source": [
    "## FLOATING POINT DATA TYPE\n",
    "pi = 3.14  # A floating-point variable\n",
    "print(pi)\n",
    "print(\"Type of pi:\", type(pi))  # Print the type of the variable\n"
   ]
  },
  {
   "cell_type": "code",
   "execution_count": null,
   "id": "909c2d1f",
   "metadata": {},
   "outputs": [],
   "source": [
    "## SRING DATA TYPE\n",
    "name = \"John Doe\"  # A string variable\n",
    "print(\"Name:\", name)"
   ]
  },
  {
   "cell_type": "code",
   "execution_count": null,
   "id": "b50d28a9",
   "metadata": {},
   "outputs": [],
   "source": [
    "## BOOLEAN DATA TYPE\n",
    "is_student = True  # A boolean variable\n",
    "print(\"Is student:\", is_student)  # Print the boolean value\n",
    "print(\"Type of is_student:\", type(is_student))  # Print the type of the boolean variable\n",
    "\n",
    "a = 100\n",
    "b = 200\n",
    "type(a==b)  # This will return <class 'bool'>, indicating that the result of the comparison is a boolean value"
   ]
  },
  {
   "cell_type": "code",
   "execution_count": null,
   "id": "0ff7788b",
   "metadata": {},
   "outputs": [],
   "source": [
    "## error examples\n",
    "\n",
    "# Uncommenting the following lines will raise errors\n",
    "print(\"Hello\" + 5)  # TypeError: can only concatenate str (not \"int\") to str\n",
    "print(10 / \"2\")  # TypeError: unsupported operand type(s) for /: 'int' and 'str'  \n",
    "print(5 + \"5\")  # TypeError: unsupported operand type(s) for +: 'int' and 'str'\n",
    "print(5 + 5.0)  # This will work, as Python automatically converts the integer to a float\n",
    "print(\"Hello\" * 3)  # This will work, as Python allows string"
   ]
  }
 ],
 "metadata": {
  "kernelspec": {
   "display_name": "Python 3",
   "language": "python",
   "name": "python3"
  },
  "language_info": {
   "codemirror_mode": {
    "name": "ipython",
    "version": 3
   },
   "file_extension": ".py",
   "mimetype": "text/x-python",
   "name": "python",
   "nbconvert_exporter": "python",
   "pygments_lexer": "ipython3",
   "version": "3.13.0"
  }
 },
 "nbformat": 4,
 "nbformat_minor": 5
}
