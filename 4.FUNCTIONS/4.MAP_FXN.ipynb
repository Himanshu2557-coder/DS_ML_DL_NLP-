{
 "cells": [
  {
   "cell_type": "markdown",
   "id": "6c452d9c",
   "metadata": {},
   "source": [
    "## MAP () FUNCTION IN PYTHON\n",
    "The map() fucntion in python applies a given fxn to all items in an input list(or any other iterable)\n",
    "and returns a \n",
    "map object(iterator). This is particularly useful for transforming data in a list\n",
    "comprehnesively."
   ]
  },
  {
   "cell_type": "code",
   "execution_count": 1,
   "id": "d4ea4ba3",
   "metadata": {},
   "outputs": [
    {
     "name": "stdout",
     "output_type": "stream",
     "text": [
      "[1, 4, 9, 16, 25]\n"
     ]
    }
   ],
   "source": [
    "def sqauare(x):\n",
    "    return x * x\n",
    "numbers = [1, 2, 3, 4, 5]\n",
    "squared_numbers = list(map(sqauare, numbers))\n",
    "print(squared_numbers)  # Output: [1, 4, 9, 16, 25]\n",
    "# --- IGNORE ---"
   ]
  },
  {
   "cell_type": "code",
   "execution_count": null,
   "id": "db9498bf",
   "metadata": {},
   "outputs": [
    {
     "name": "stdout",
     "output_type": "stream",
     "text": [
      "[1, 4, 9, 16, 25, 36]\n"
     ]
    }
   ],
   "source": [
    "## LAMBDA FUNCTION WITH MAP\n",
    "numbers = [1, 2, 3, 4, 5, 6]\n",
    "squared_numbers_lambda = list(map(lambda x: x * x, numbers))\n",
    "print(squared_numbers_lambda)  # Output: [1, 4, 9, 16, 25]\n"
   ]
  },
  {
   "cell_type": "code",
   "execution_count": null,
   "id": "061c0ec7",
   "metadata": {},
   "outputs": [],
   "source": [
    "## MAP MULTIPLE ITERABLES\n",
    "numbers1 = [1, 2, 3]\n",
    "numbers2 = [4, 5, 6]\n",
    "added_numbers = list(map(lambda x, y: x + y, numbers1, numbers2))\n",
    "print(added_numbers)  # Output: [5, 7, 9]\n"
   ]
  },
  {
   "cell_type": "code",
   "execution_count": 5,
   "id": "50c251dd",
   "metadata": {},
   "outputs": [
    {
     "name": "stdout",
     "output_type": "stream",
     "text": [
      "[1, 2, 3, 4, 5]\n"
     ]
    }
   ],
   "source": [
    "## MAP TO CONVERT A LIST OF STRINGS TO INTEGERS\n",
    "string_numbers = ['1', '2', '3', '4', '5']\n",
    "integer_numbers = list(map(int, string_numbers))\n",
    "print(integer_numbers)  # Output: [1, 2, 3, 4, 5]\n"
   ]
  },
  {
   "cell_type": "code",
   "execution_count": 6,
   "id": "dadea7ef",
   "metadata": {},
   "outputs": [
    {
     "name": "stdout",
     "output_type": "stream",
     "text": [
      "['Alice', 'Bob', 'Charlie']\n"
     ]
    }
   ],
   "source": [
    "def get_name(person):\n",
    "    return person['name']\n",
    "people = [\n",
    "    {'name': 'Alice', 'age': 30},\n",
    "    {'name': 'Bob', 'age': 25},\n",
    "    {'name': 'Charlie', 'age': 35}\n",
    "]\n",
    "names = list(map(get_name, people))\n",
    "print(names)  # Output: ['Alice', 'Bob', 'Charlie']\n"
   ]
  }
 ],
 "metadata": {
  "kernelspec": {
   "display_name": "Python 3",
   "language": "python",
   "name": "python3"
  },
  "language_info": {
   "codemirror_mode": {
    "name": "ipython",
    "version": 3
   },
   "file_extension": ".py",
   "mimetype": "text/x-python",
   "name": "python",
   "nbconvert_exporter": "python",
   "pygments_lexer": "ipython3",
   "version": "3.13.0"
  }
 },
 "nbformat": 4,
 "nbformat_minor": 5
}
