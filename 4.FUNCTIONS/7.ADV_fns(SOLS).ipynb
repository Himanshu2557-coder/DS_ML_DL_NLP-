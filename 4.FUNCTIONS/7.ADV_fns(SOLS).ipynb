{
 "cells": [
  {
   "cell_type": "markdown",
   "id": "50b6a0a1",
   "metadata": {},
   "source": [
    "## Advanced Functions Assignments Solutions"
   ]
  },
  {
   "cell_type": "markdown",
   "id": "b12fb646",
   "metadata": {},
   "source": [
    "## ASSIGN 1 SOL !\n"
   ]
  },
  {
   "cell_type": "code",
   "execution_count": null,
   "id": "71e7a8be",
   "metadata": {},
   "outputs": [],
   "source": [
    "def fibonacci(n, memo={}):\n",
    "    if n in memo:\n",
    "        return memo[n]\n",
    "    if n <= 1:\n",
    "        return n\n",
    "    memo[n] = fibonacci(n - 1, memo) + fibonacci(n - 2, memo)\n",
    "    return memo[n]\n",
    "\n",
    "# Test\n",
    "print(fibonacci(10))  # 55\n",
    "print(fibonacci(15))  # 610"
   ]
  },
  {
   "cell_type": "markdown",
   "id": "80402477",
   "metadata": {},
   "source": [
    "## ASSIGN 2 SOL !"
   ]
  },
  {
   "cell_type": "code",
   "execution_count": null,
   "id": "c8cced69",
   "metadata": {},
   "outputs": [],
   "source": [
    "def add_to_dict(a, b=None):\n",
    "    if b is None:\n",
    "        b = {}\n",
    "    b[a] = a**2\n",
    "    return b\n",
    "\n",
    "# Test\n",
    "print(add_to_dict(2))  # {2: 4}\n",
    "print(add_to_dict(3, {1: 1}))  # {1: 1, 3: 9}"
   ]
  },
  {
   "cell_type": "markdown",
   "id": "88bf5703",
   "metadata": {},
   "source": [
    "## ASSIGN 3 SOL !"
   ]
  },
  {
   "cell_type": "code",
   "execution_count": null,
   "id": "315d36a1",
   "metadata": {},
   "outputs": [],
   "source": [
    "def filter_integers(**kwargs):\n",
    "    return {k: v for k, v in kwargs.items() if isinstance(v, int)}\n",
    "\n",
    "# Test\n",
    "print(filter_integers(a=1, b='two', c=3, d=4.5))  # {'a': 1, 'c': 3}\n",
    "print(filter_integers(x=10, y='yes', z=20))  # {'x': 10, 'z': 20}"
   ]
  },
  {
   "cell_type": "markdown",
   "id": "70dbd398",
   "metadata": {},
   "source": [
    "## ASSIGN 4 SOL !"
   ]
  },
  {
   "cell_type": "code",
   "execution_count": null,
   "id": "2374d0eb",
   "metadata": {},
   "outputs": [],
   "source": [
    "def apply_callback(callback, lst):\n",
    "    return [callback(x) for x in lst]\n",
    "\n",
    "# Test\n",
    "print(apply_callback(lambda x: x**2, [1, 2, 3, 4]))  # [1, 4, 9, 16]\n",
    "print(apply_callback(lambda x: x+1, [1, 2, 3, 4]))  # [2, 3, 4, 5]\n"
   ]
  },
  {
   "cell_type": "markdown",
   "id": "c38c5c49",
   "metadata": {},
   "source": [
    "## ASSIGN 5 SOL !\n"
   ]
  },
  {
   "cell_type": "code",
   "execution_count": null,
   "id": "051da922",
   "metadata": {},
   "outputs": [],
   "source": [
    "def outer_function():\n",
    "    def inner_function(x):\n",
    "        return x ** 2\n",
    "    return inner_function\n",
    "\n",
    "# Test\n",
    "square = outer_function()\n",
    "print(square(2))  # 4\n",
    "print(square(5))  # 25"
   ]
  },
  {
   "cell_type": "markdown",
   "id": "861038ba",
   "metadata": {},
   "source": [
    "## ASSIGN 6 SOL !\n",
    "    "
   ]
  },
  {
   "cell_type": "code",
   "execution_count": null,
   "id": "e0966de6",
   "metadata": {},
   "outputs": [],
   "source": [
    "import time\n",
    "\n",
    "def timer_decorator(func):\n",
    "    def wrapper(*args, **kwargs):\n",
    "        start_time = time.time()\n",
    "        result = func(*args, **kwargs)\n",
    "        end_time = time.time()\n",
    "        print(f\"Function {func.__name__} took {end_time - start_time} seconds to execute.\")\n",
    "        return result\n",
    "    return wrapper\n",
    "\n",
    "@timer_decorator\n",
    "def complex_calculation(n):\n",
    "    return sum(x**2 for x in range(n))\n",
    "\n",
    "# Test\n",
    "print(complex_calculation(10000))"
   ]
  },
  {
   "cell_type": "markdown",
   "id": "ea070a7d",
   "metadata": {},
   "source": [
    "## ASSIGN 7 SOL !\n"
   ]
  },
  {
   "cell_type": "code",
   "execution_count": null,
   "id": "9c50ad04",
   "metadata": {},
   "outputs": [],
   "source": [
    "def filter_and_map(filter_func, map_func, lst):\n",
    "    return [map_func(x) for x in lst if filter_func(x)]\n",
    "\n",
    "# Test\n",
    "print(filter_and_map(lambda x: x % 2 == 0, lambda x: x ** 2, [1, 2, 3, 4, 5]))  # [4, 16]\n",
    "print(filter_and_map(lambda x: x > 2, lambda x: x + 1, [1, 2, 3, 4, 5]))  # [4, 5, 6]"
   ]
  },
  {
   "cell_type": "markdown",
   "id": "b53308d3",
   "metadata": {},
   "source": [
    "## ASSIGN 8 SOL !\n"
   ]
  },
  {
   "cell_type": "code",
   "execution_count": null,
   "id": "7e5a1eb7",
   "metadata": {},
   "outputs": [],
   "source": [
    "def filter_and_map(filter_func, map_func, lst):\n",
    "    return [map_func(x) for x in lst if filter_func(x)]\n",
    "\n",
    "# Test\n",
    "print(filter_and_map(lambda x: x % 2 == 0, lambda x: x ** 2, [1, 2, 3, 4, 5]))  # [4, 16]\n",
    "print(filter_and_map(lambda x: x > 2, lambda x: x + 1, [1, 2, 3, 4, 5]))  # [4, 5, 6]"
   ]
  },
  {
   "cell_type": "markdown",
   "id": "df538096",
   "metadata": {},
   "source": [
    "## ASSIGN 9 SOL !"
   ]
  },
  {
   "cell_type": "code",
   "execution_count": null,
   "id": "ba15f13f",
   "metadata": {},
   "outputs": [],
   "source": [
    "from functools import partial\n",
    "\n",
    "multiply_by_2 = partial(lambda x, y: x * y, 2)\n",
    "\n",
    "# Test\n",
    "print(multiply_by_2(3))  # 6\n",
    "print(multiply_by_2(5))  # 10"
   ]
  },
  {
   "cell_type": "markdown",
   "id": "ebc3efba",
   "metadata": {},
   "source": [
    "## ASSIGN 10 SOL !\n"
   ]
  },
  {
   "cell_type": "code",
   "execution_count": null,
   "id": "aa2171b2",
   "metadata": {},
   "outputs": [],
   "source": [
    "def average(lst):\n",
    "    try:\n",
    "        return sum(lst) / len(lst)\n",
    "    except ZeroDivisionError:\n",
    "        return None\n",
    "\n",
    "# Test\n",
    "print(average([1, 2, 3, 4, 5]))  # 3.0\n",
    "print(average([]))  # None"
   ]
  },
  {
   "cell_type": "markdown",
   "id": "cdcaf0c8",
   "metadata": {},
   "source": [
    "## ASSIGN 11 SOL !"
   ]
  },
  {
   "cell_type": "code",
   "execution_count": null,
   "id": "ad30a6f2",
   "metadata": {},
   "outputs": [],
   "source": [
    "def fibonacci_generator():\n",
    "    a, b = 0, 1\n",
    "    while True:\n",
    "        yield a\n",
    "        a, b = b, a + b\n",
    "\n",
    "# Test\n",
    "fib_gen = fibonacci_generator()\n",
    "for _ in range(10):\n",
    "    print(next(fib_gen))"
   ]
  },
  {
   "cell_type": "markdown",
   "id": "bc7548ae",
   "metadata": {},
   "source": [
    "## ASSIGN 12 SOL !"
   ]
  },
  {
   "cell_type": "code",
   "execution_count": null,
   "id": "9f9a20a3",
   "metadata": {},
   "outputs": [],
   "source": [
    "def curry_product(x):\n",
    "    def inner1(y):\n",
    "        def inner2(z):\n",
    "            return x * y * z\n",
    "        return inner2\n",
    "    return inner1\n",
    "\n",
    "# Test\n",
    "print(curry_product(2)(3)(4))  # 24\n",
    "print(curry_product(1)(5)(6))  # 30"
   ]
  },
  {
   "cell_type": "markdown",
   "id": "356e07a6",
   "metadata": {},
   "source": [
    "## ASSIGN 13 SOL !\n"
   ]
  },
  {
   "cell_type": "code",
   "execution_count": null,
   "id": "331ee843",
   "metadata": {},
   "outputs": [],
   "source": [
    "def write_to_file(lst, filename):\n",
    "    try:\n",
    "        with open(filename, 'w') as f:\n",
    "            for num in lst:\n",
    "                f.write(f\"{num}\\n\")\n",
    "    except IOError as e:\n",
    "        print(f\"An error occurred: {e}\")\n",
    "\n",
    "# Test\n",
    "write_to_file([1, 2, 3, 4, 5], 'output.txt')"
   ]
  },
  {
   "cell_type": "markdown",
   "id": "072a606d",
   "metadata": {},
   "source": [
    "## ASSIGN 14 SOL !"
   ]
  },
  {
   "cell_type": "code",
   "execution_count": null,
   "id": "ba167cbc",
   "metadata": {},
   "outputs": [],
   "source": [
    "def separate_types(lst):\n",
    "    ints, strs, floats = [], [], []\n",
    "    for item in lst:\n",
    "        if isinstance(item, int):\n",
    "            ints.append(item)\n",
    "        elif isinstance(item, str):\n",
    "            strs.append(item)\n",
    "        elif isinstance(item, float):\n",
    "            floats.append(item)\n",
    "    return ints, strs, floats\n",
    "\n",
    "# Test\n",
    "print(separate_types([1, 'a', 2.5, 3, 'b', 4.0, 'c']))  # ([1, 3], ['a', 'b', 'c'], [2.5, 4.0])"
   ]
  },
  {
   "cell_type": "markdown",
   "id": "c1bc84d7",
   "metadata": {},
   "source": [
    "## ASSIGN 15 SOL !\n"
   ]
  },
  {
   "cell_type": "code",
   "execution_count": null,
   "id": "75ee3e93",
   "metadata": {},
   "outputs": [],
   "source": [
    "def call_counter(counter={'count': 0}):\n",
    "    counter['count'] += 1\n",
    "    return counter['count']\n",
    "\n",
    "# Test\n",
    "print(call_counter())  # 1\n",
    "print(call_counter())  # 2\n",
    "print(call_counter())  # 3"
   ]
  }
 ],
 "metadata": {
  "kernelspec": {
   "display_name": "Python 3",
   "language": "python",
   "name": "python3"
  },
  "language_info": {
   "name": "python",
   "version": "3.13.0"
  }
 },
 "nbformat": 4,
 "nbformat_minor": 5
}
