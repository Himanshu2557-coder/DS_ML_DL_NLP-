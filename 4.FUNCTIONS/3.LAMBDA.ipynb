{
 "cells": [
  {
   "cell_type": "markdown",
   "id": "3aa0cd8d",
   "metadata": {},
   "source": [
    "## LAMBDA FXNS IN PYTHON\n",
    "\n",
    "LAMBDA FXNS ARE SMALL ANONYMOUS FXNS DEFINED USING \n",
    "LAMBDA KEYWORD.THEY CAN HAVE ANY NUMBER OF\n",
    "ARGUMENTS BUT ONLY ONE EXPRESSION .\n",
    "THEY ARE COMMONLY USED FOR SHORT OPERATIONS OR AS ARGUMENTS\n",
    "TO HIGH-ORDER FXNS !"
   ]
  },
  {
   "cell_type": "code",
   "execution_count": null,
   "id": "b3579f55",
   "metadata": {},
   "outputs": [],
   "source": [
    "## SYNTAX\n",
    "lambda arguments: expression"
   ]
  },
  {
   "cell_type": "code",
   "execution_count": null,
   "id": "c93cccf6",
   "metadata": {},
   "outputs": [],
   "source": [
    "addition = lambda a,b : a + b\n",
    "print(addition(5, 3))  # Output: 8"
   ]
  },
  {
   "cell_type": "code",
   "execution_count": null,
   "id": "635a1826",
   "metadata": {},
   "outputs": [],
   "source": [
    "even 1 = lambda x: x % 2 == 0\n",
    "print(even(4))  # Output: True"
   ]
  },
  {
   "cell_type": "code",
   "execution_count": null,
   "id": "49e2c6a8",
   "metadata": {},
   "outputs": [],
   "source": [
    "## MAP FUNCTION BASIC EXAMPLE\n",
    "# The map function applies a given function to all items in an iterable (like a list)\n",
    "numbers = [1, 2, 3, 4, 5]\n",
    "squared_numbers = list(map(lambda x: x ** 2, numbers))\n",
    "print(squared_numbers)  # Output: [1, 4, 9, 16, 25]\n"
   ]
  }
 ],
 "metadata": {
  "kernelspec": {
   "display_name": "Python 3",
   "language": "python",
   "name": "python3"
  },
  "language_info": {
   "codemirror_mode": {
    "name": "ipython",
    "version": 3
   },
   "file_extension": ".py",
   "mimetype": "text/x-python",
   "name": "python",
   "nbconvert_exporter": "python",
   "pygments_lexer": "ipython3",
   "version": "3.13.0"
  }
 },
 "nbformat": 4,
 "nbformat_minor": 5
}
