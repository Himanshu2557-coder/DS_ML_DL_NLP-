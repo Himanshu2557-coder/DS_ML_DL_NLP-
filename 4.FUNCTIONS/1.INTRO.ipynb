{
 "cells": [
  {
   "cell_type": "markdown",
   "id": "99ce11d3",
   "metadata": {},
   "source": [
    "## FUNCTIONS IN PYTHON\n",
    "1. INTRODUCTION TO FXNS\n",
    "2. DEFINING FXNS\n",
    "3. CALLING FXNS\n",
    "4. FUNCTION PARAMETERS\n",
    "5. DEFAULT PARAMETERS\n",
    "6. VARIABLE-LENGTH ARGUMENTS\n",
    "7. RETURN STATEMENTS"
   ]
  },
  {
   "cell_type": "markdown",
   "id": "318dbe7a",
   "metadata": {},
   "source": [
    "## INTRODUCTION\n",
    " A FUNCTION IS A BLOCK OF CODE THAT PERFORMS A SPECIFIC TASK . THEY HELP IN\n",
    " ORGANISING CODE , REUSING CODE , AND IMPROVING READIBILITY !\n",
    " \n",
    "  "
   ]
  },
  {
   "cell_type": "code",
   "execution_count": null,
   "id": "26edf9c7",
   "metadata": {},
   "outputs": [],
   "source": [
    "## SYNTAX \n",
    "def function_name(parameters):\n",
    "    \"\"\"DOCSTRING: This function does something.\"\"\"\n",
    "    ## FUNCTION BODY\n",
    "    return expression\n",
    "    "
   ]
  },
  {
   "cell_type": "code",
   "execution_count": null,
   "id": "f416523f",
   "metadata": {},
   "outputs": [],
   "source": [
    "## why functions?\n",
    "# Functions are reusable pieces of code that can be called multiple times with different inputs.\n",
    "num = 24\n",
    "if(num % 2 == 0):\n",
    "    print(\"Even\")\n",
    "else:\n",
    "    print(\"Odd\")\n",
    "    "
   ]
  },
  {
   "cell_type": "code",
   "execution_count": null,
   "id": "a8cdec92",
   "metadata": {},
   "outputs": [],
   "source": [
    "def even_or_odd(num):\n",
    "    \"\"\"Check if a number is even or odd.\"\"\"\n",
    "    if num % 2 == 0:\n",
    "        return \"Even\"\n",
    "    else:\n",
    "        return \"Odd\""
   ]
  },
  {
   "cell_type": "code",
   "execution_count": null,
   "id": "b5506836",
   "metadata": {},
   "outputs": [],
   "source": [
    "##  CALL THIS  FUCNTION\n",
    "print(even_or_odd(24))\n",
    "print(even_or_odd(25))"
   ]
  },
  {
   "cell_type": "code",
   "execution_count": null,
   "id": "f750a410",
   "metadata": {},
   "outputs": [],
   "source": [
    "## FUNCTION WITH MULTIPLE PARAMETERS\n",
    "def add_numbers(a, b):\n",
    "    \"\"\"Add two numbers.\"\"\"\n",
    "    return a + b\n",
    "print(add_numbers(5, 10))"
   ]
  },
  {
   "cell_type": "code",
   "execution_count": null,
   "id": "b9d50cb8",
   "metadata": {},
   "outputs": [],
   "source": [
    "## DEFAULT PARAMETERS\n",
    "\n",
    "def greet(name = \"World\"):\n",
    "    print(f\"Hello, {name}!\")\n",
    "greet()\n",
    "greet(\"HIMANSHU SIR\")"
   ]
  },
  {
   "cell_type": "code",
   "execution_count": null,
   "id": "a5746f3e",
   "metadata": {},
   "outputs": [],
   "source": [
    "## VARIABLE LENGTH ARGUMENTS\n",
    "## POSITIONAL ARGUMENTS AND KEYWORD ARGUMENTS\n",
    "\n",
    "def print_numbers(*args):\n",
    "    \"\"\"Print any number of arguments.\"\"\"\n",
    "    for num in args:\n",
    "        print(print_numbers)"
   ]
  },
  {
   "cell_type": "code",
   "execution_count": null,
   "id": "abd49ad2",
   "metadata": {},
   "outputs": [],
   "source": [
    "print_numbers(1, 2, 3, 4, 5)"
   ]
  },
  {
   "cell_type": "code",
   "execution_count": null,
   "id": "0668bc5a",
   "metadata": {},
   "outputs": [],
   "source": [
    "## KEYWORD ARGUMENTS\n",
    "\n",
    "def print_details(**kwargs):\n",
    "    \"\"\"Print details using keyword arguments.\"\"\"\n",
    "    for key, value in kwargs.items():\n",
    "        print(f\"{key}: {value}\")\n",
    "print_details(name=\"Alice\", age=30, city=\"New York\")\n",
    "\n",
    "\n",
    "\n",
    "## KEYWORD ARGUMENTS WITH DEFAULT PARAMETERS\n",
    "def print_info(name, age):\n",
    "    \"\"\"Print name and age.\"\"\"\n",
    "    print(f\"Name: {name}, Age: {age}\")\n",
    "print_info(name=\"Alice\", age=30)\n",
    "\n",
    "\n",
    "## DEFAULT PARAMETERS WITH KEYWORD ARGUMENTS\n",
    "def print_info(name, age=25):\n",
    "    \"\"\"Print name and age with a default age.\"\"\"\n",
    "    print(f\"Name: {name}, Age: {age}\")\n",
    "print_info(name=\"Bob\")  # Uses default age\n",
    "print_info(name=\"Charlie\", age=35)  # Overrides default age"
   ]
  },
  {
   "cell_type": "code",
   "execution_count": null,
   "id": "cf000341",
   "metadata": {},
   "outputs": [
    {
     "name": "stdout",
     "output_type": "stream",
     "text": [
      "16\n",
      "15\n",
      "120\n"
     ]
    }
   ],
   "source": [
    "## RETURN STATEMENT\n",
    "def square(num):\n",
    "    \"\"\"Return the square of a number.\"\"\"\n",
    "    return num * num\n",
    "print(square(4))  # Output: 16\n",
    "\n",
    "\n",
    "\n",
    "def multiply(a, b):\n",
    "    \"\"\"Return the product of two numbers.\"\"\"\n",
    "    return a * b\n",
    "print(multiply(3, 5))  # Output: 15\n",
    "\n",
    "\n",
    "def factorial(n):\n",
    "    \"\"\"Return the factorial of a number.\"\"\"\n",
    "    if n == 0 or n == 1:\n",
    "        return 1\n",
    "    else:\n",
    "        return n * factorial(n - 1)\n",
    "print(factorial(5))  # Output: 120  "
   ]
  }
 ],
 "metadata": {
  "kernelspec": {
   "display_name": "Python 3",
   "language": "python",
   "name": "python3"
  },
  "language_info": {
   "codemirror_mode": {
    "name": "ipython",
    "version": 3
   },
   "file_extension": ".py",
   "mimetype": "text/x-python",
   "name": "python",
   "nbconvert_exporter": "python",
   "pygments_lexer": "ipython3",
   "version": "3.13.0"
  }
 },
 "nbformat": 4,
 "nbformat_minor": 5
}
