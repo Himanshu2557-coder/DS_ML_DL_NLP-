{
 "cells": [
  {
   "cell_type": "markdown",
   "id": "1b336096",
   "metadata": {},
   "source": [
    "## FUNCTION EXAMPLES"
   ]
  },
  {
   "cell_type": "code",
   "execution_count": null,
   "id": "e5f2d83c",
   "metadata": {},
   "outputs": [],
   "source": [
    "## 1.TEMPERATURE CONVERSION\n",
    "# Function to convert Celsius to Fahrenheit\n",
    "def celsius_to_fahrenheit(celsius):\n",
    "    return (celsius * 9/5) + 32\n",
    "# Function to convert Fahrenheit to Celsius\n",
    "def fahrenheit_to_celsius(fahrenheit):\n",
    "    return (fahrenheit - 32) * 5/9\n",
    "# Example usage\n",
    "celsius_temp = 25\n",
    "fahrenheit_temp = 77\n",
    "print(f\"{celsius_temp}°C is {celsius_to_fahrenheit(celsius_temp)}°F\")\n",
    "print(f\"{fahrenheit_temp}°F is {fahrenheit_to_celsius(fahrenheit_temp)}°C\")\n"
   ]
  },
  {
   "cell_type": "code",
   "execution_count": null,
   "id": "eb2c20ea",
   "metadata": {},
   "outputs": [],
   "source": [
    "## 2. PASSWORD STRENGTH CHECK\n",
    "# Function to check password strength\n",
    "def is_strong_password(password):\n",
    "    if len(password) < 8:\n",
    "        return False\n",
    "    if not any(char.isdigit() for char in password):\n",
    "        return False\n",
    "    if not any(char.isupper() for char in password):\n",
    "        return False\n",
    "    if not any(char.islower() for char in password):\n",
    "        return False\n",
    "    if not any(char in \"!@#$%^&*()-_=+[]{}|;:,.<>?/\" for char in password):\n",
    "        return False\n",
    "    return True\n",
    "# Example usage\n",
    "password = \"StrongPass1!\"\n",
    "print(f\"Is the password '{password}' strong? {is_strong_password(password)}\")\n"
   ]
  },
  {
   "cell_type": "code",
   "execution_count": null,
   "id": "aea2d7a9",
   "metadata": {},
   "outputs": [],
   "source": [
    "## 3.CALCULATE TOTAL COST OF ITEMS IN A SHOPPING CART\n",
    "# Function to calculate total cost of items in a shopping cart\n",
    "def calculate_total_cost(cart):\n",
    "    total_cost = 0\n",
    "    for item in cart:\n",
    "        total_cost += item['price'] * item['quantity']\n",
    "    return total_cost\n",
    "# Example usage\n",
    "shopping_cart = [\n",
    "    {'name': 'apple', 'price': 0.5, 'quantity': 4},\n",
    "    {'name': 'banana', 'price': 0.3, 'quantity': 6},\n",
    "    {'name': 'orange', 'price': 0.8, 'quantity': 3}\n",
    "]\n",
    "total = calculate_total_cost(shopping_cart)\n",
    "print(f\"Total cost of items in the shopping cart: ${total:.2f}\")    \n"
   ]
  },
  {
   "cell_type": "code",
   "execution_count": 7,
   "id": "509297ad",
   "metadata": {},
   "outputs": [
    {
     "name": "stdout",
     "output_type": "stream",
     "text": [
      "True\n",
      "False\n"
     ]
    }
   ],
   "source": [
    "## 4. STRING IS PALINDROME\n",
    "# Function to check if a string is a palindrome\n",
    "def is_palindrome(s):\n",
    "    s = s.lower().replace(\" \", \"\")\n",
    "    return s == s[::-1]\n",
    "\n",
    "# Example usage\n",
    "print(is_palindrome(\"Racecar\"))  # True\n",
    "print(is_palindrome(\"Hello\"))    # False"
   ]
  },
  {
   "cell_type": "code",
   "execution_count": 8,
   "id": "3bb02116",
   "metadata": {},
   "outputs": [
    {
     "name": "stdout",
     "output_type": "stream",
     "text": [
      "120\n"
     ]
    }
   ],
   "source": [
    "## 5. FACTORIAL OF A NUMBER USING RECURSION\n",
    "# Function to calculate factorial using recursion\n",
    "def factorial(n):\n",
    "    if n == 0 or n == 1:\n",
    "        return 1\n",
    "    else:\n",
    "        return n * factorial(n - 1)\n",
    "# Example usage\n",
    "print(factorial(5))  # Output: 120\n"
   ]
  }
 ],
 "metadata": {
  "kernelspec": {
   "display_name": "Python 3",
   "language": "python",
   "name": "python3"
  },
  "language_info": {
   "codemirror_mode": {
    "name": "ipython",
    "version": 3
   },
   "file_extension": ".py",
   "mimetype": "text/x-python",
   "name": "python",
   "nbconvert_exporter": "python",
   "pygments_lexer": "ipython3",
   "version": "3.13.0"
  }
 },
 "nbformat": 4,
 "nbformat_minor": 5
}
