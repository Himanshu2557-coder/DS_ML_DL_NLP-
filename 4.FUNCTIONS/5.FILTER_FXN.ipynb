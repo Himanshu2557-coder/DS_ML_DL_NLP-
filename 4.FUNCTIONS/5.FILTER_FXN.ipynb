{
 "cells": [
  {
   "cell_type": "markdown",
   "id": "49332165",
   "metadata": {},
   "source": [
    "## FILTER() FXN IN PYTHON\n",
    "The filter() fxn constructs an iterator from elements of an iterable for which a fucntion\n",
    "returns true. It is used to filter out items from a list based on a condition ."
   ]
  },
  {
   "cell_type": "code",
   "execution_count": null,
   "id": "4a373d6e",
   "metadata": {},
   "outputs": [],
   "source": [
    "def even_numbers(x):\n",
    "    return x % 2 == 0\n",
    "numbers = [1, 2, 3, 4, 5, 6]\n",
    "even_numbers_list = list(filter(even_numbers, numbers))\n",
    "print(even_numbers_list)  # Output: [2, 4, 6]"
   ]
  },
  {
   "cell_type": "code",
   "execution_count": null,
   "id": "0d63c4eb",
   "metadata": {},
   "outputs": [],
   "source": [
    "## FILTER WITH LAMBDA FUNCTION\n",
    "numbers = [1, 2, 3, 4, 5, 6]\n",
    "even_numbers_lambda = list(filter(lambda x: x % 2 == 0, numbers))\n",
    "print(even_numbers_lambda)  # Output: [2, 4, 6]\n"
   ]
  },
  {
   "cell_type": "code",
   "execution_count": null,
   "id": "3ac3980e",
   "metadata": {},
   "outputs": [],
   "source": [
    "## FILTER() FXN WITH LAMBDA AND MULTIPLE ITERABLES\n",
    "numbers1 = [1, 2, 3]\n",
    "numbers2 = [4, 5, 6]\n",
    "even_numbers_multiple = list(filter(lambda x, y: x % 2 == 0 and y % 2 == 0, numbers1, numbers2))\n",
    "print(even_numbers_multiple)  # Output: []\n"
   ]
  },
  {
   "cell_type": "code",
   "execution_count": null,
   "id": "7aa11900",
   "metadata": {},
   "outputs": [
    {
     "name": "stdout",
     "output_type": "stream",
     "text": [
      "[{'name': 'Alice', 'age': 30}, {'name': 'Charlie', 'age': 35}]\n"
     ]
    }
   ],
   "source": [
    "## FILTER TO CHECK AGE IS > 25 IN A LIST OF DICTIONARIES\n",
    "people = [  \n",
    "    {'name': 'Alice', 'age': 30},\n",
    "    {'name': 'Bob', 'age': 25},\n",
    "    {'name': 'Charlie', 'age': 35}\n",
    "]\n",
    "def is_age_above_25(person):\n",
    "    return person['age'] > 25\n",
    "filtered_people = list(filter(is_age_above_25, people))\n",
    "print(filtered_people)  \n",
    "# Output: [{'name': 'Alice', 'age': 30 }, {'name': 'Charlie', 'age': 35}]   "
   ]
  },
  {
   "cell_type": "markdown",
   "id": "12a47fba",
   "metadata": {},
   "source": [
    "## CONCLUSION\n",
    "The filter() fxn is a powerful tool for creating iterators that filter items out of an iterable\n",
    "based on a fxn. It is commonly used for data cleaning ,filtering objects and removing unwanted elemenst from a lists.\n"
   ]
  }
 ],
 "metadata": {
  "kernelspec": {
   "display_name": "Python 3",
   "language": "python",
   "name": "python3"
  },
  "language_info": {
   "codemirror_mode": {
    "name": "ipython",
    "version": 3
   },
   "file_extension": ".py",
   "mimetype": "text/x-python",
   "name": "python",
   "nbconvert_exporter": "python",
   "pygments_lexer": "ipython3",
   "version": "3.13.0"
  }
 },
 "nbformat": 4,
 "nbformat_minor": 5
}
